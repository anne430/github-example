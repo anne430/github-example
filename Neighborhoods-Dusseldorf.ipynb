{
    "cells": [
        {
            "cell_type": "markdown",
            "metadata": {},
            "source": "# Neighborhoods in Dusseldorf, Germany "
        },
        {
            "cell_type": "markdown",
            "metadata": {},
            "source": "## Table of Contents\n\n1. Introduction\n2. Describe and Explore Data set\n3. Methodology\n4. Results\n5. Discussion\n6. Conclusion\n"
        },
        {
            "cell_type": "markdown",
            "metadata": {},
            "source": "# 1. Introduction"
        },
        {
            "cell_type": "markdown",
            "metadata": {},
            "source": "### Definition of the problem\nMy dream was to open a store or shop one day in the city I'm born in. That city is Ratingen, Germany. \nCurrently, I'm working and living in Dusseldorf. As it is now time to open a shop, I can decide to do that in \nRatingen or in Dusseldorf. Dusseldorf is much bigger than Ratingen. Nevertheless, Ratingen has less shops and \nthat's why the chance for success could be bigger. Maybe other cities in the neighborhood of Dusseldorf are better!?\n\nMy journey should give insights in environment of these two cities and other cities in the neighborhood. \nThe result should be a suggestion where to open a shop. So, the project is interesting for everybody how lives \nnear by or wants to open a shop close to Dusseldorf. The project give insights about how many spots of interest \nalready exists. E.g. if there are already 10 bakeries in a city, you shouldn't open the 11s bakery if you want to be successful..."
        },
        {
            "cell_type": "markdown",
            "metadata": {},
            "source": "Before I start with exploring the data, let's download all the dependencies that we will need."
        },
        {
            "cell_type": "code",
            "execution_count": 2,
            "metadata": {
                "jupyter": {
                    "outputs_hidden": false
                }
            },
            "outputs": [
                {
                    "name": "stdout",
                    "output_type": "stream",
                    "text": "Solving environment: done\n\n# All requested packages already installed.\n\nSolving environment: done\n\n# All requested packages already installed.\n\nLibraries imported.\n"
                }
            ],
            "source": "import numpy as np \n\nimport pandas as pd # library for data analsysis\n\nimport json # library to handle JSON files\n\n!conda install -c conda-forge geopy --yes # uncomment this line if you haven't completed the Foursquare API lab\nfrom geopy.geocoders import Nominatim # convert an address into latitude and longitude values\n\nimport requests # library to handle requests\nfrom pandas.io.json import json_normalize # tranform JSON file into a pandas dataframe\n\n# Matplotlib and associated plotting modules\nimport matplotlib.cm as cm\nimport matplotlib.colors as colors\n\n# import k-means from clustering stage\nfrom sklearn.cluster import KMeans\n\n!conda install -c conda-forge folium=0.5.0 --yes # uncomment this line if you haven't completed the Foursquare API lab\nimport folium # map rendering library\n\nprint('Libraries imported.')"
        },
        {
            "cell_type": "markdown",
            "metadata": {},
            "source": "<a id='item1'></a>"
        },
        {
            "cell_type": "markdown",
            "metadata": {},
            "source": "# 2. Description of the data \nI use data from foursquare.com, where I search with the latitude and longitude of both cities as well as the data of their neighborhoods.\nI use geopy library to get the latitude and longitude values of Dusseldorf, Ratingen and so on. To get the values for the neighborhoods I set-up a dataframe and use a self-defined function called *getlocation*. The most common venues will show which shops and stores are already very present in each city."
        },
        {
            "cell_type": "markdown",
            "metadata": {},
            "source": "#### Display the geographical data of Dusseldorf and create a *pandas* dataframe with Neighborhoods"
        },
        {
            "cell_type": "markdown",
            "metadata": {},
            "source": "#### I use geopy library to get the latitude and longitude values of Dusseldorf and Neighborhood"
        },
        {
            "cell_type": "code",
            "execution_count": 14,
            "metadata": {},
            "outputs": [
                {
                    "name": "stdout",
                    "output_type": "stream",
                    "text": "The geograpical coordinate of Dusseldorf are 51.2254018, 6.7763137.\n"
                }
            ],
            "source": "address = 'Dusseldorf'\n\ngeolocator = Nominatim(user_agent=\"dd_explorer\")\nlocation = geolocator.geocode(address)\nlatitude = location.latitude\nlongitude = location.longitude\nprint('The geograpical coordinate of Dusseldorf are {}, {}.'.format(latitude, longitude))"
        },
        {
            "cell_type": "code",
            "execution_count": 15,
            "metadata": {},
            "outputs": [],
            "source": "#Set up data frame\nNeighborhood=['Ratingen', 'Bochum', 'Cologne', 'Wuppertal', 'Monchengladbach', 'Leverkusen', \n              'Duisburg', 'Neuss', 'Erkrath', 'Krefeld', 'Langenfeld']\ndf = pd.DataFrame(Neighborhood, columns=['Neighborhood'])\n\ndf['Borough']='Dusseldorf'\ndf = df[['Borough','Neighborhood']]\n\ndf['Latitude'] = np.nan\ndf['Longitude'] = np.nan"
        },
        {
            "cell_type": "code",
            "execution_count": 16,
            "metadata": {},
            "outputs": [],
            "source": "#Define function to search for geographical data of location\ndef getlocation(adress, data):\n          \n    location = geolocator.geocode(address)\n    latitude = location.latitude\n    longitude = location.longitude\n        \n    df['Latitude'][data]= latitude\n    df['Longitude'][data]= longitude"
        },
        {
            "cell_type": "code",
            "execution_count": 17,
            "metadata": {},
            "outputs": [
                {
                    "name": "stderr",
                    "output_type": "stream",
                    "text": "/opt/conda/envs/Python36/lib/python3.6/site-packages/ipykernel/__main__.py:8: SettingWithCopyWarning: \nA value is trying to be set on a copy of a slice from a DataFrame\n\nSee the caveats in the documentation: http://pandas.pydata.org/pandas-docs/stable/indexing.html#indexing-view-versus-copy\n/opt/conda/envs/Python36/lib/python3.6/site-packages/ipykernel/__main__.py:9: SettingWithCopyWarning: \nA value is trying to be set on a copy of a slice from a DataFrame\n\nSee the caveats in the documentation: http://pandas.pydata.org/pandas-docs/stable/indexing.html#indexing-view-versus-copy\n"
                }
            ],
            "source": "#Put neighborhood data into dateframe\ngeolocator = Nominatim(user_agent=\"dd_explorer\")\n\nfor data in range(0,11):\n    address = df['Neighborhood'][data] \n    getlocation(address, data)  "
        },
        {
            "cell_type": "code",
            "execution_count": 18,
            "metadata": {},
            "outputs": [
                {
                    "data": {
                        "text/html": "<div>\n<style scoped>\n    .dataframe tbody tr th:only-of-type {\n        vertical-align: middle;\n    }\n\n    .dataframe tbody tr th {\n        vertical-align: top;\n    }\n\n    .dataframe thead th {\n        text-align: right;\n    }\n</style>\n<table border=\"1\" class=\"dataframe\">\n  <thead>\n    <tr style=\"text-align: right;\">\n      <th></th>\n      <th>Borough</th>\n      <th>Neighborhood</th>\n      <th>Latitude</th>\n      <th>Longitude</th>\n    </tr>\n  </thead>\n  <tbody>\n    <tr>\n      <th>0</th>\n      <td>Dusseldorf</td>\n      <td>Ratingen</td>\n      <td>51.297326</td>\n      <td>6.849350</td>\n    </tr>\n    <tr>\n      <th>1</th>\n      <td>Dusseldorf</td>\n      <td>Bochum</td>\n      <td>51.481811</td>\n      <td>7.219664</td>\n    </tr>\n    <tr>\n      <th>2</th>\n      <td>Dusseldorf</td>\n      <td>Cologne</td>\n      <td>50.938361</td>\n      <td>6.959974</td>\n    </tr>\n    <tr>\n      <th>3</th>\n      <td>Dusseldorf</td>\n      <td>Wuppertal</td>\n      <td>51.264018</td>\n      <td>7.178037</td>\n    </tr>\n    <tr>\n      <th>4</th>\n      <td>Dusseldorf</td>\n      <td>Monchengladbach</td>\n      <td>51.194698</td>\n      <td>6.435364</td>\n    </tr>\n    <tr>\n      <th>5</th>\n      <td>Dusseldorf</td>\n      <td>Leverkusen</td>\n      <td>51.032474</td>\n      <td>6.988119</td>\n    </tr>\n    <tr>\n      <th>6</th>\n      <td>Dusseldorf</td>\n      <td>Duisburg</td>\n      <td>51.434999</td>\n      <td>6.759562</td>\n    </tr>\n    <tr>\n      <th>7</th>\n      <td>Dusseldorf</td>\n      <td>Neuss</td>\n      <td>51.198178</td>\n      <td>6.691648</td>\n    </tr>\n    <tr>\n      <th>8</th>\n      <td>Dusseldorf</td>\n      <td>Erkrath</td>\n      <td>51.222206</td>\n      <td>6.912324</td>\n    </tr>\n    <tr>\n      <th>9</th>\n      <td>Dusseldorf</td>\n      <td>Krefeld</td>\n      <td>51.333120</td>\n      <td>6.562334</td>\n    </tr>\n    <tr>\n      <th>10</th>\n      <td>Dusseldorf</td>\n      <td>Langenfeld</td>\n      <td>51.108487</td>\n      <td>6.948959</td>\n    </tr>\n  </tbody>\n</table>\n</div>",
                        "text/plain": "       Borough     Neighborhood   Latitude  Longitude\n0   Dusseldorf         Ratingen  51.297326   6.849350\n1   Dusseldorf           Bochum  51.481811   7.219664\n2   Dusseldorf          Cologne  50.938361   6.959974\n3   Dusseldorf        Wuppertal  51.264018   7.178037\n4   Dusseldorf  Monchengladbach  51.194698   6.435364\n5   Dusseldorf       Leverkusen  51.032474   6.988119\n6   Dusseldorf         Duisburg  51.434999   6.759562\n7   Dusseldorf            Neuss  51.198178   6.691648\n8   Dusseldorf          Erkrath  51.222206   6.912324\n9   Dusseldorf          Krefeld  51.333120   6.562334\n10  Dusseldorf       Langenfeld  51.108487   6.948959"
                    },
                    "execution_count": 18,
                    "metadata": {},
                    "output_type": "execute_result"
                }
            ],
            "source": "df"
        },
        {
            "cell_type": "markdown",
            "metadata": {},
            "source": "#### First result: \nAs you can see from the table above, the Latitude and the Longitude of the different cities don't vary much. \nThat means, there are lots of cities really close to Dusseldorf. \nSo it makes sense to think about where to open a store as you don't have to drive that far."
        },
        {
            "cell_type": "markdown",
            "metadata": {},
            "source": "# 3. Methodology section"
        },
        {
            "cell_type": "markdown",
            "metadata": {},
            "source": "As a first step I will visualise the map of Dusseldorf and surroundings to give a better expression about the neighborhood. \nWith foursquare.com I will explore the neighborhood of Dusseldorf further. I will search for the main venues in each city. Then I will analyse each neighborhood and cluster the neighborhoods with k-means. Additionally, I will make a test for the best k to be sure to cluster correctly. "
        },
        {
            "cell_type": "markdown",
            "metadata": {},
            "source": "#### Examine the map of Dusseldorf"
        },
        {
            "cell_type": "code",
            "execution_count": 19,
            "metadata": {},
            "outputs": [
                {
                    "data": {
                        "text/html": "<div style=\"width:100%;\"><div style=\"position:relative;width:100%;height:0;padding-bottom:60%;\"><iframe src=\"data:text/html;charset=utf-8;base64,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\" style=\"position:absolute;width:100%;height:100%;left:0;top:0;border:none !important;\" allowfullscreen webkitallowfullscreen mozallowfullscreen></iframe></div></div>",
                        "text/plain": "<folium.folium.Map at 0x7fa63e483940>"
                    },
                    "execution_count": 19,
                    "metadata": {},
                    "output_type": "execute_result"
                }
            ],
            "source": "map_dusseldorf = folium.Map(location=[latitude, longitude], zoom_start=11)\n\nfolium.CircleMarker(\n        [latitude, longitude],\n        radius=10,\n        color='blue',\n        fill=True,\n        fill_color='#3186cc',\n        fill_opacity=0.7,\n        parse_html=False).add_to(map_dusseldorf)\n\nmap_dusseldorf"
        },
        {
            "cell_type": "markdown",
            "metadata": {},
            "source": "#### Create a map of Dusseldorf with neighborhoods superimposed on top."
        },
        {
            "cell_type": "code",
            "execution_count": 20,
            "metadata": {
                "jupyter": {
                    "outputs_hidden": false
                }
            },
            "outputs": [
                {
                    "data": {
                        "text/html": "<div style=\"width:100%;\"><div style=\"position:relative;width:100%;height:0;padding-bottom:60%;\"><iframe src=\"data:text/html;charset=utf-8;base64,PCFET0NUWVBFIGh0bWw+CjxoZWFkPiAgICAKICAgIDxtZXRhIGh0dHAtZXF1aXY9ImNvbnRlbnQtdHlwZSIgY29udGVudD0idGV4dC9odG1sOyBjaGFyc2V0PVVURi04IiAvPgogICAgPHNjcmlwdD5MX1BSRUZFUl9DQU5WQVMgPSBmYWxzZTsgTF9OT19UT1VDSCA9IGZhbHNlOyBMX0RJU0FCTEVfM0QgPSBmYWxzZTs8L3NjcmlwdD4KICAgIDxzY3JpcHQgc3JjPSJodHRwczovL2Nkbi5qc2RlbGl2ci5uZXQvbnBtL2xlYWZsZXRAMS4yLjAvZGlzdC9sZWFmbGV0LmpzIj48L3NjcmlwdD4KICAgIDxzY3JpcHQgc3JjPSJodHRwczovL2FqYXguZ29vZ2xlYXBpcy5jb20vYWpheC9saWJzL2pxdWVyeS8xLjExLjEvanF1ZXJ5Lm1pbi5qcyI+PC9zY3JpcHQ+CiAgICA8c2NyaXB0IHNyYz0iaHR0cHM6Ly9tYXhjZG4uYm9vdHN0cmFwY2RuLmNvbS9ib290c3RyYXAvMy4yLjAvanMvYm9vdHN0cmFwLm1pbi5qcyI+PC9zY3JpcHQ+CiAgICA8c2NyaXB0IHNyYz0iaHR0cHM6Ly9jZG5qcy5jbG91ZGZsYXJlLmNvbS9hamF4L2xpYnMvTGVhZmxldC5hd2Vzb21lLW1hcmtlcnMvMi4wLjIvbGVhZmxldC5hd2Vzb21lLW1hcmtlcnMuanMiPjwvc2NyaXB0PgogICAgPGxpbmsgcmVsPSJzdHlsZXNoZWV0IiBocmVmPSJodHRwczovL2Nkbi5qc2RlbGl2ci5uZXQvbnBtL2xlYWZsZXRAMS4yLjAvZGlzdC9sZWFmbGV0LmNzcyIvPgogICAgPGxpbmsgcmVsPSJzdHlsZXNoZWV0IiBocmVmPSJodHRwczovL21heGNkbi5ib290c3RyYXBjZG4uY29tL2Jvb3RzdHJhcC8zLjIuMC9jc3MvYm9vdHN0cmFwLm1pbi5jc3MiLz4KICAgIDxsaW5rIHJlbD0ic3R5bGVzaGVldCIgaHJlZj0iaHR0cHM6Ly9tYXhjZG4uYm9vdHN0cmFwY2RuLmNvbS9ib290c3RyYXAvMy4yLjAvY3NzL2Jvb3RzdHJhcC10aGVtZS5taW4uY3NzIi8+CiAgICA8bGluayByZWw9InN0eWxlc2hlZXQiIGhyZWY9Imh0dHBzOi8vbWF4Y2RuLmJvb3RzdHJhcGNkbi5jb20vZm9udC1hd2Vzb21lLzQuNi4zL2Nzcy9mb250LWF3ZXNvbWUubWluLmNzcyIvPgogICAgPGxpbmsgcmVsPSJzdHlsZXNoZWV0IiBocmVmPSJodHRwczovL2NkbmpzLmNsb3VkZmxhcmUuY29tL2FqYXgvbGlicy9MZWFmbGV0LmF3ZXNvbWUtbWFya2Vycy8yLjAuMi9sZWFmbGV0LmF3ZXNvbWUtbWFya2Vycy5jc3MiLz4KICAgIDxsaW5rIHJlbD0ic3R5bGVzaGVldCIgaHJlZj0iaHR0cHM6Ly9yYXdnaXQuY29tL3B5dGhvbi12aXN1YWxpemF0aW9uL2ZvbGl1bS9tYXN0ZXIvZm9saXVtL3RlbXBsYXRlcy9sZWFmbGV0LmF3ZXNvbWUucm90YXRlLmNzcyIvPgogICAgPHN0eWxlPmh0bWwsIGJvZHkge3dpZHRoOiAxMDAlO2hlaWdodDogMTAwJTttYXJnaW46IDA7cGFkZGluZzogMDt9PC9zdHlsZT4KICAgIDxzdHlsZT4jbWFwIHtwb3NpdGlvbjphYnNvbHV0ZTt0b3A6MDtib3R0b206MDtyaWdodDowO2xlZnQ6MDt9PC9zdHlsZT4KICAgIAogICAgICAgICAgICA8c3R5bGU+ICNtYXBfYjIyMTY1OTdiZjVlNDdjZWI3OTdiNmZmMGIyZTJlZmEgewogICAgICAgICAgICAgICAgcG9zaXRpb24gOiByZWxhdGl2ZTsKICAgICAgICAgICAgICAgIHdpZHRoIDogMTAwLjAlOwogICAgICAgICAgICAgICAgaGVpZ2h0OiAxMDAuMCU7CiAgICAgICAgICAgICAgICBsZWZ0OiAwLjAlOwogICAgICAgICAgICAgICAgdG9wOiAwLjAlOwogICAgICAgICAgICAgICAgfQogICAgICAgICAgICA8L3N0eWxlPgogICAgICAgIAo8L2hlYWQ+Cjxib2R5PiAgICAKICAgIAogICAgICAgICAgICA8ZGl2IGNsYXNzPSJmb2xpdW0tbWFwIiBpZD0ibWFwX2IyMjE2NTk3YmY1ZTQ3Y2ViNzk3YjZmZjBiMmUyZWZhIiA+PC9kaXY+CiAgICAgICAgCjwvYm9keT4KPHNjcmlwdD4gICAgCiAgICAKCiAgICAgICAgICAgIAogICAgICAgICAgICAgICAgdmFyIGJvdW5kcyA9IG51bGw7CiAgICAgICAgICAgIAoKICAgICAgICAgICAgdmFyIG1hcF9iMjIxNjU5N2JmNWU0N2NlYjc5N2I2ZmYwYjJlMmVmYSA9IEwubWFwKAogICAgICAgICAgICAgICAgICAgICAgICAgICAgICAgICAgJ21hcF9iMjIxNjU5N2JmNWU0N2NlYjc5N2I2ZmYwYjJlMmVmYScsCiAgICAgICAgICAgICAgICAgICAgICAgICAgICAgICAgICB7Y2VudGVyOiBbNTEuMjI1NDAxOCw2Ljc3NjMxMzddLAogICAgICAgICAgICAgICAgICAgICAgICAgICAgICAgICAgem9vbTogOSwKICAgICAgICAgICAgICAgICAgICAgICAgICAgICAgICAgIG1heEJvdW5kczogYm91bmRzLAogICAgICAgICAgICAgICAgICAgICAgICAgICAgICAgICAgbGF5ZXJzOiBbXSwKICAgICAgICAgICAgICAgICAgICAgICAgICAgICAgICAgIHdvcmxkQ29weUp1bXA6IGZhbHNlLAogICAgICAgICAgICAgICAgICAgICAgICAgICAgICAgICAgY3JzOiBMLkNSUy5FUFNHMzg1NwogICAgICAgICAgICAgICAgICAgICAgICAgICAgICAgICB9KTsKICAgICAgICAgICAgCiAgICAgICAgCiAgICAKICAgICAgICAgICAgdmFyIHRpbGVfbGF5ZXJfYzJhNjc5NTk5MjU5NGI3ZWJjZDM2MmI2NTQ2M2JkNzUgPSBMLnRpbGVMYXllcigKICAgICAgICAgICAgICAgICdodHRwczovL3tzfS50aWxlLm9wZW5zdHJlZXRtYXAub3JnL3t6fS97eH0ve3l9LnBuZycsCiAgICAgICAgICAgICAgICB7CiAgImF0dHJpYnV0aW9uIjogbnVsbCwKICAiZGV0ZWN0UmV0aW5hIjogZmFsc2UsCiAgIm1heFpvb20iOiAxOCwKICAibWluWm9vbSI6IDEsCiAgIm5vV3JhcCI6IGZhbHNlLAogICJzdWJkb21haW5zIjogImFiYyIKfQogICAgICAgICAgICAgICAgKS5hZGRUbyhtYXBfYjIyMTY1OTdiZjVlNDdjZWI3OTdiNmZmMGIyZTJlZmEpOwogICAgICAgIAogICAgCiAgICAgICAgICAgIHZhciBjaXJjbGVfbWFya2VyX2Q2M2E5YzFiOGZiMzQwMTk4NDcwOGUxMGMyMTdlNjk2ID0gTC5jaXJjbGVNYXJrZXIoCiAgICAgICAgICAgICAgICBbNTEuMjk3MzI2MSw2Ljg0OTM1MDNdLAogICAgICAgICAgICAgICAgewogICJidWJibGluZ01vdXNlRXZlbnRzIjogdHJ1ZSwKICAiY29sb3IiOiAicmVkIiwKICAiZGFzaEFycmF5IjogbnVsbCwKICAiZGFzaE9mZnNldCI6IG51bGwsCiAgImZpbGwiOiB0cnVlLAogICJmaWxsQ29sb3IiOiAiIzMxODZjYyIsCiAgImZpbGxPcGFjaXR5IjogMC43LAogICJmaWxsUnVsZSI6ICJldmVub2RkIiwKICAibGluZUNhcCI6ICJyb3VuZCIsCiAgImxpbmVKb2luIjogInJvdW5kIiwKICAib3BhY2l0eSI6IDEuMCwKICAicmFkaXVzIjogMTAsCiAgInN0cm9rZSI6IHRydWUsCiAgIndlaWdodCI6IDMKfQogICAgICAgICAgICAgICAgKS5hZGRUbyhtYXBfYjIyMTY1OTdiZjVlNDdjZWI3OTdiNmZmMGIyZTJlZmEpOwogICAgICAgICAgICAKICAgIAogICAgICAgICAgICB2YXIgcG9wdXBfYTBkYTJiNThiOGEzNDAzODk2NTY0ZjhiNDYzMzJkYTYgPSBMLnBvcHVwKHttYXhXaWR0aDogJzMwMCd9KTsKCiAgICAgICAgICAgIAogICAgICAgICAgICAgICAgdmFyIGh0bWxfNGUxNTM5ODk2YmRlNGFjNDhiNjFkZTM0YjFmZDE4OWEgPSAkKCc8ZGl2IGlkPSJodG1sXzRlMTUzOTg5NmJkZTRhYzQ4YjYxZGUzNGIxZmQxODlhIiBzdHlsZT0id2lkdGg6IDEwMC4wJTsgaGVpZ2h0OiAxMDAuMCU7Ij5SYXRpbmdlbiwgRHVzc2VsZG9yZjwvZGl2PicpWzBdOwogICAgICAgICAgICAgICAgcG9wdXBfYTBkYTJiNThiOGEzNDAzODk2NTY0ZjhiNDYzMzJkYTYuc2V0Q29udGVudChodG1sXzRlMTUzOTg5NmJkZTRhYzQ4YjYxZGUzNGIxZmQxODlhKTsKICAgICAgICAgICAgCgogICAgICAgICAgICBjaXJjbGVfbWFya2VyX2Q2M2E5YzFiOGZiMzQwMTk4NDcwOGUxMGMyMTdlNjk2LmJpbmRQb3B1cChwb3B1cF9hMGRhMmI1OGI4YTM0MDM4OTY1NjRmOGI0NjMzMmRhNik7CgogICAgICAgICAgICAKICAgICAgICAKICAgIAogICAgICAgICAgICB2YXIgY2lyY2xlX21hcmtlcl9kYjA4MTk5OTZiZjA0NmJlODNhZDJjZTEwMDk1ZGJlYyA9IEwuY2lyY2xlTWFya2VyKAogICAgICAgICAgICAgICAgWzUxLjQ4MTgxMTEsNy4yMTk2NjM1XSwKICAgICAgICAgICAgICAgIHsKICAiYnViYmxpbmdNb3VzZUV2ZW50cyI6IHRydWUsCiAgImNvbG9yIjogInJlZCIsCiAgImRhc2hBcnJheSI6IG51bGwsCiAgImRhc2hPZmZzZXQiOiBudWxsLAogICJmaWxsIjogdHJ1ZSwKICAiZmlsbENvbG9yIjogIiMzMTg2Y2MiLAogICJmaWxsT3BhY2l0eSI6IDAuNywKICAiZmlsbFJ1bGUiOiAiZXZlbm9kZCIsCiAgImxpbmVDYXAiOiAicm91bmQiLAogICJsaW5lSm9pbiI6ICJyb3VuZCIsCiAgIm9wYWNpdHkiOiAxLjAsCiAgInJhZGl1cyI6IDEwLAogICJzdHJva2UiOiB0cnVlLAogICJ3ZWlnaHQiOiAzCn0KICAgICAgICAgICAgICAgICkuYWRkVG8obWFwX2IyMjE2NTk3YmY1ZTQ3Y2ViNzk3YjZmZjBiMmUyZWZhKTsKICAgICAgICAgICAgCiAgICAKICAgICAgICAgICAgdmFyIHBvcHVwXzU2MGUwNDNmMjllNjQ1YzI5YWJhYzk2Y2JhZjIxNjFkID0gTC5wb3B1cCh7bWF4V2lkdGg6ICczMDAnfSk7CgogICAgICAgICAgICAKICAgICAgICAgICAgICAgIHZhciBodG1sX2RiMjU3Zjg4ZWYzMjRjZDJiNTliMjNmNWVlNjY2Mzc3ID0gJCgnPGRpdiBpZD0iaHRtbF9kYjI1N2Y4OGVmMzI0Y2QyYjU5YjIzZjVlZTY2NjM3NyIgc3R5bGU9IndpZHRoOiAxMDAuMCU7IGhlaWdodDogMTAwLjAlOyI+Qm9jaHVtLCBEdXNzZWxkb3JmPC9kaXY+JylbMF07CiAgICAgICAgICAgICAgICBwb3B1cF81NjBlMDQzZjI5ZTY0NWMyOWFiYWM5NmNiYWYyMTYxZC5zZXRDb250ZW50KGh0bWxfZGIyNTdmODhlZjMyNGNkMmI1OWIyM2Y1ZWU2NjYzNzcpOwogICAgICAgICAgICAKCiAgICAgICAgICAgIGNpcmNsZV9tYXJrZXJfZGIwODE5OTk2YmYwNDZiZTgzYWQyY2UxMDA5NWRiZWMuYmluZFBvcHVwKHBvcHVwXzU2MGUwNDNmMjllNjQ1YzI5YWJhYzk2Y2JhZjIxNjFkKTsKCiAgICAgICAgICAgIAogICAgICAgIAogICAgCiAgICAgICAgICAgIHZhciBjaXJjbGVfbWFya2VyXzhjMjVlOTY4YTc1ZjQwYThiMjJmNmM0YzllMGExMmNiID0gTC5jaXJjbGVNYXJrZXIoCiAgICAgICAgICAgICAgICBbNTAuOTM4MzYxLDYuOTU5OTc0XSwKICAgICAgICAgICAgICAgIHsKICAiYnViYmxpbmdNb3VzZUV2ZW50cyI6IHRydWUsCiAgImNvbG9yIjogInJlZCIsCiAgImRhc2hBcnJheSI6IG51bGwsCiAgImRhc2hPZmZzZXQiOiBudWxsLAogICJmaWxsIjogdHJ1ZSwKICAiZmlsbENvbG9yIjogIiMzMTg2Y2MiLAogICJmaWxsT3BhY2l0eSI6IDAuNywKICAiZmlsbFJ1bGUiOiAiZXZlbm9kZCIsCiAgImxpbmVDYXAiOiAicm91bmQiLAogICJsaW5lSm9pbiI6ICJyb3VuZCIsCiAgIm9wYWNpdHkiOiAxLjAsCiAgInJhZGl1cyI6IDEwLAogICJzdHJva2UiOiB0cnVlLAogICJ3ZWlnaHQiOiAzCn0KICAgICAgICAgICAgICAgICkuYWRkVG8obWFwX2IyMjE2NTk3YmY1ZTQ3Y2ViNzk3YjZmZjBiMmUyZWZhKTsKICAgICAgICAgICAgCiAgICAKICAgICAgICAgICAgdmFyIHBvcHVwX2ZhNTIwODhhYTIwZDRjZjBhY2Y5YjAwZjlmMDkwYzI1ID0gTC5wb3B1cCh7bWF4V2lkdGg6ICczMDAnfSk7CgogICAgICAgICAgICAKICAgICAgICAgICAgICAgIHZhciBodG1sXzdhYzM1OGFkZDkwNjRmZmI5MTYyNTkxYTNjZTQzZjQwID0gJCgnPGRpdiBpZD0iaHRtbF83YWMzNThhZGQ5MDY0ZmZiOTE2MjU5MWEzY2U0M2Y0MCIgc3R5bGU9IndpZHRoOiAxMDAuMCU7IGhlaWdodDogMTAwLjAlOyI+Q29sb2duZSwgRHVzc2VsZG9yZjwvZGl2PicpWzBdOwogICAgICAgICAgICAgICAgcG9wdXBfZmE1MjA4OGFhMjBkNGNmMGFjZjliMDBmOWYwOTBjMjUuc2V0Q29udGVudChodG1sXzdhYzM1OGFkZDkwNjRmZmI5MTYyNTkxYTNjZTQzZjQwKTsKICAgICAgICAgICAgCgogICAgICAgICAgICBjaXJjbGVfbWFya2VyXzhjMjVlOTY4YTc1ZjQwYThiMjJmNmM0YzllMGExMmNiLmJpbmRQb3B1cChwb3B1cF9mYTUyMDg4YWEyMGQ0Y2YwYWNmOWIwMGY5ZjA5MGMyNSk7CgogICAgICAgICAgICAKICAgICAgICAKICAgIAogICAgICAgICAgICB2YXIgY2lyY2xlX21hcmtlcl83ODVkZTAwMmZlYzg0ZGM4YTU0MDg5YTkxNzRiMDNlYSA9IEwuY2lyY2xlTWFya2VyKAogICAgICAgICAgICAgICAgWzUxLjI2NDAxOCw3LjE3ODAzNzRdLAogICAgICAgICAgICAgICAgewogICJidWJibGluZ01vdXNlRXZlbnRzIjogdHJ1ZSwKICAiY29sb3IiOiAicmVkIiwKICAiZGFzaEFycmF5IjogbnVsbCwKICAiZGFzaE9mZnNldCI6IG51bGwsCiAgImZpbGwiOiB0cnVlLAogICJmaWxsQ29sb3IiOiAiIzMxODZjYyIsCiAgImZpbGxPcGFjaXR5IjogMC43LAogICJmaWxsUnVsZSI6ICJldmVub2RkIiwKICAibGluZUNhcCI6ICJyb3VuZCIsCiAgImxpbmVKb2luIjogInJvdW5kIiwKICAib3BhY2l0eSI6IDEuMCwKICAicmFkaXVzIjogMTAsCiAgInN0cm9rZSI6IHRydWUsCiAgIndlaWdodCI6IDMKfQogICAgICAgICAgICAgICAgKS5hZGRUbyhtYXBfYjIyMTY1OTdiZjVlNDdjZWI3OTdiNmZmMGIyZTJlZmEpOwogICAgICAgICAgICAKICAgIAogICAgICAgICAgICB2YXIgcG9wdXBfM2Y1YzQ2N2I1NzhiNGY5ZWE3YmVlYmJmZGUxMjlkYjUgPSBMLnBvcHVwKHttYXhXaWR0aDogJzMwMCd9KTsKCiAgICAgICAgICAgIAogICAgICAgICAgICAgICAgdmFyIGh0bWxfYmFhMTgzYWJiYWQxNDU4M2EzNDM5Y2EwOTFlYzc3NDkgPSAkKCc8ZGl2IGlkPSJodG1sX2JhYTE4M2FiYmFkMTQ1ODNhMzQzOWNhMDkxZWM3NzQ5IiBzdHlsZT0id2lkdGg6IDEwMC4wJTsgaGVpZ2h0OiAxMDAuMCU7Ij5XdXBwZXJ0YWwsIER1c3NlbGRvcmY8L2Rpdj4nKVswXTsKICAgICAgICAgICAgICAgIHBvcHVwXzNmNWM0NjdiNTc4YjRmOWVhN2JlZWJiZmRlMTI5ZGI1LnNldENvbnRlbnQoaHRtbF9iYWExODNhYmJhZDE0NTgzYTM0MzljYTA5MWVjNzc0OSk7CiAgICAgICAgICAgIAoKICAgICAgICAgICAgY2lyY2xlX21hcmtlcl83ODVkZTAwMmZlYzg0ZGM4YTU0MDg5YTkxNzRiMDNlYS5iaW5kUG9wdXAocG9wdXBfM2Y1YzQ2N2I1NzhiNGY5ZWE3YmVlYmJmZGUxMjlkYjUpOwoKICAgICAgICAgICAgCiAgICAgICAgCiAgICAKICAgICAgICAgICAgdmFyIGNpcmNsZV9tYXJrZXJfOTdhNDA1MjY1OTYyNGNmOWE5MDY0M2JlZWYwZWEyNmEgPSBMLmNpcmNsZU1hcmtlcigKICAgICAgICAgICAgICAgIFs1MS4xOTQ2OTgzLDYuNDM1MzY0MV0sCiAgICAgICAgICAgICAgICB7CiAgImJ1YmJsaW5nTW91c2VFdmVudHMiOiB0cnVlLAogICJjb2xvciI6ICJyZWQiLAogICJkYXNoQXJyYXkiOiBudWxsLAogICJkYXNoT2Zmc2V0IjogbnVsbCwKICAiZmlsbCI6IHRydWUsCiAgImZpbGxDb2xvciI6ICIjMzE4NmNjIiwKICAiZmlsbE9wYWNpdHkiOiAwLjcsCiAgImZpbGxSdWxlIjogImV2ZW5vZGQiLAogICJsaW5lQ2FwIjogInJvdW5kIiwKICAibGluZUpvaW4iOiAicm91bmQiLAogICJvcGFjaXR5IjogMS4wLAogICJyYWRpdXMiOiAxMCwKICAic3Ryb2tlIjogdHJ1ZSwKICAid2VpZ2h0IjogMwp9CiAgICAgICAgICAgICAgICApLmFkZFRvKG1hcF9iMjIxNjU5N2JmNWU0N2NlYjc5N2I2ZmYwYjJlMmVmYSk7CiAgICAgICAgICAgIAogICAgCiAgICAgICAgICAgIHZhciBwb3B1cF81NjE4Njg2Mzg2NGE0N2Q0YmRmMWZiNDM3ZDBmMzEyZSA9IEwucG9wdXAoe21heFdpZHRoOiAnMzAwJ30pOwoKICAgICAgICAgICAgCiAgICAgICAgICAgICAgICB2YXIgaHRtbF9iZThlZjE3MmE5MWY0ZDk2YTA2YjdhZDkyODVhNTZjOCA9ICQoJzxkaXYgaWQ9Imh0bWxfYmU4ZWYxNzJhOTFmNGQ5NmEwNmI3YWQ5Mjg1YTU2YzgiIHN0eWxlPSJ3aWR0aDogMTAwLjAlOyBoZWlnaHQ6IDEwMC4wJTsiPk1vbmNoZW5nbGFkYmFjaCwgRHVzc2VsZG9yZjwvZGl2PicpWzBdOwogICAgICAgICAgICAgICAgcG9wdXBfNTYxODY4NjM4NjRhNDdkNGJkZjFmYjQzN2QwZjMxMmUuc2V0Q29udGVudChodG1sX2JlOGVmMTcyYTkxZjRkOTZhMDZiN2FkOTI4NWE1NmM4KTsKICAgICAgICAgICAgCgogICAgICAgICAgICBjaXJjbGVfbWFya2VyXzk3YTQwNTI2NTk2MjRjZjlhOTA2NDNiZWVmMGVhMjZhLmJpbmRQb3B1cChwb3B1cF81NjE4Njg2Mzg2NGE0N2Q0YmRmMWZiNDM3ZDBmMzEyZSk7CgogICAgICAgICAgICAKICAgICAgICAKICAgIAogICAgICAgICAgICB2YXIgY2lyY2xlX21hcmtlcl9lNGRkNWVmMWY2MWI0MjkwYTVjYTAwMDc1Y2YxNjg2MCA9IEwuY2lyY2xlTWFya2VyKAogICAgICAgICAgICAgICAgWzUxLjAzMjQ3NDMsNi45ODgxMTk0XSwKICAgICAgICAgICAgICAgIHsKICAiYnViYmxpbmdNb3VzZUV2ZW50cyI6IHRydWUsCiAgImNvbG9yIjogInJlZCIsCiAgImRhc2hBcnJheSI6IG51bGwsCiAgImRhc2hPZmZzZXQiOiBudWxsLAogICJmaWxsIjogdHJ1ZSwKICAiZmlsbENvbG9yIjogIiMzMTg2Y2MiLAogICJmaWxsT3BhY2l0eSI6IDAuNywKICAiZmlsbFJ1bGUiOiAiZXZlbm9kZCIsCiAgImxpbmVDYXAiOiAicm91bmQiLAogICJsaW5lSm9pbiI6ICJyb3VuZCIsCiAgIm9wYWNpdHkiOiAxLjAsCiAgInJhZGl1cyI6IDEwLAogICJzdHJva2UiOiB0cnVlLAogICJ3ZWlnaHQiOiAzCn0KICAgICAgICAgICAgICAgICkuYWRkVG8obWFwX2IyMjE2NTk3YmY1ZTQ3Y2ViNzk3YjZmZjBiMmUyZWZhKTsKICAgICAgICAgICAgCiAgICAKICAgICAgICAgICAgdmFyIHBvcHVwX2NlZWQwYmFmZDEzNDRlMmNiMzZkODVlNjRiNmMwMWQyID0gTC5wb3B1cCh7bWF4V2lkdGg6ICczMDAnfSk7CgogICAgICAgICAgICAKICAgICAgICAgICAgICAgIHZhciBodG1sX2IyMWI1MmNiMjlmNjQyY2Q5YzQ3YTE0ZTg4ZTUxZjJmID0gJCgnPGRpdiBpZD0iaHRtbF9iMjFiNTJjYjI5ZjY0MmNkOWM0N2ExNGU4OGU1MWYyZiIgc3R5bGU9IndpZHRoOiAxMDAuMCU7IGhlaWdodDogMTAwLjAlOyI+TGV2ZXJrdXNlbiwgRHVzc2VsZG9yZjwvZGl2PicpWzBdOwogICAgICAgICAgICAgICAgcG9wdXBfY2VlZDBiYWZkMTM0NGUyY2IzNmQ4NWU2NGI2YzAxZDIuc2V0Q29udGVudChodG1sX2IyMWI1MmNiMjlmNjQyY2Q5YzQ3YTE0ZTg4ZTUxZjJmKTsKICAgICAgICAgICAgCgogICAgICAgICAgICBjaXJjbGVfbWFya2VyX2U0ZGQ1ZWYxZjYxYjQyOTBhNWNhMDAwNzVjZjE2ODYwLmJpbmRQb3B1cChwb3B1cF9jZWVkMGJhZmQxMzQ0ZTJjYjM2ZDg1ZTY0YjZjMDFkMik7CgogICAgICAgICAgICAKICAgICAgICAKICAgIAogICAgICAgICAgICB2YXIgY2lyY2xlX21hcmtlcl80NzBkNWE0MGY2NDA0ODliYTZjMjJhYjdiYTZkYjNmZSA9IEwuY2lyY2xlTWFya2VyKAogICAgICAgICAgICAgICAgWzUxLjQzNDk5OSw2Ljc1OTU2Ml0sCiAgICAgICAgICAgICAgICB7CiAgImJ1YmJsaW5nTW91c2VFdmVudHMiOiB0cnVlLAogICJjb2xvciI6ICJyZWQiLAogICJkYXNoQXJyYXkiOiBudWxsLAogICJkYXNoT2Zmc2V0IjogbnVsbCwKICAiZmlsbCI6IHRydWUsCiAgImZpbGxDb2xvciI6ICIjMzE4NmNjIiwKICAiZmlsbE9wYWNpdHkiOiAwLjcsCiAgImZpbGxSdWxlIjogImV2ZW5vZGQiLAogICJsaW5lQ2FwIjogInJvdW5kIiwKICAibGluZUpvaW4iOiAicm91bmQiLAogICJvcGFjaXR5IjogMS4wLAogICJyYWRpdXMiOiAxMCwKICAic3Ryb2tlIjogdHJ1ZSwKICAid2VpZ2h0IjogMwp9CiAgICAgICAgICAgICAgICApLmFkZFRvKG1hcF9iMjIxNjU5N2JmNWU0N2NlYjc5N2I2ZmYwYjJlMmVmYSk7CiAgICAgICAgICAgIAogICAgCiAgICAgICAgICAgIHZhciBwb3B1cF8xMWY1MzViMGU0ZTQ0NDc5YWFiNmNmMzFlYjg4YTlkYSA9IEwucG9wdXAoe21heFdpZHRoOiAnMzAwJ30pOwoKICAgICAgICAgICAgCiAgICAgICAgICAgICAgICB2YXIgaHRtbF8xZDVmN2U2ZDMxYjE0YjU4ODY2MjAzNDhhY2E1ZmI1YSA9ICQoJzxkaXYgaWQ9Imh0bWxfMWQ1ZjdlNmQzMWIxNGI1ODg2NjIwMzQ4YWNhNWZiNWEiIHN0eWxlPSJ3aWR0aDogMTAwLjAlOyBoZWlnaHQ6IDEwMC4wJTsiPkR1aXNidXJnLCBEdXNzZWxkb3JmPC9kaXY+JylbMF07CiAgICAgICAgICAgICAgICBwb3B1cF8xMWY1MzViMGU0ZTQ0NDc5YWFiNmNmMzFlYjg4YTlkYS5zZXRDb250ZW50KGh0bWxfMWQ1ZjdlNmQzMWIxNGI1ODg2NjIwMzQ4YWNhNWZiNWEpOwogICAgICAgICAgICAKCiAgICAgICAgICAgIGNpcmNsZV9tYXJrZXJfNDcwZDVhNDBmNjQwNDg5YmE2YzIyYWI3YmE2ZGIzZmUuYmluZFBvcHVwKHBvcHVwXzExZjUzNWIwZTRlNDQ0NzlhYWI2Y2YzMWViODhhOWRhKTsKCiAgICAgICAgICAgIAogICAgICAgIAogICAgCiAgICAgICAgICAgIHZhciBjaXJjbGVfbWFya2VyX2UxMzc0Y2M0MjU2YTRlMTY5NTYxMmQ0NmNlMWZiMjRkID0gTC5jaXJjbGVNYXJrZXIoCiAgICAgICAgICAgICAgICBbNTEuMTk4MTc3OCw2LjY5MTY0NzZdLAogICAgICAgICAgICAgICAgewogICJidWJibGluZ01vdXNlRXZlbnRzIjogdHJ1ZSwKICAiY29sb3IiOiAicmVkIiwKICAiZGFzaEFycmF5IjogbnVsbCwKICAiZGFzaE9mZnNldCI6IG51bGwsCiAgImZpbGwiOiB0cnVlLAogICJmaWxsQ29sb3IiOiAiIzMxODZjYyIsCiAgImZpbGxPcGFjaXR5IjogMC43LAogICJmaWxsUnVsZSI6ICJldmVub2RkIiwKICAibGluZUNhcCI6ICJyb3VuZCIsCiAgImxpbmVKb2luIjogInJvdW5kIiwKICAib3BhY2l0eSI6IDEuMCwKICAicmFkaXVzIjogMTAsCiAgInN0cm9rZSI6IHRydWUsCiAgIndlaWdodCI6IDMKfQogICAgICAgICAgICAgICAgKS5hZGRUbyhtYXBfYjIyMTY1OTdiZjVlNDdjZWI3OTdiNmZmMGIyZTJlZmEpOwogICAgICAgICAgICAKICAgIAogICAgICAgICAgICB2YXIgcG9wdXBfYjI2MGU5MGE5NTc3NGIxNGEwYTE5OWMwOTU5ODUyYjMgPSBMLnBvcHVwKHttYXhXaWR0aDogJzMwMCd9KTsKCiAgICAgICAgICAgIAogICAgICAgICAgICAgICAgdmFyIGh0bWxfYzdjNjZkZGYwZTRmNDY4OWJhZTlhZWM2NjVmNmNiZDQgPSAkKCc8ZGl2IGlkPSJodG1sX2M3YzY2ZGRmMGU0ZjQ2ODliYWU5YWVjNjY1ZjZjYmQ0IiBzdHlsZT0id2lkdGg6IDEwMC4wJTsgaGVpZ2h0OiAxMDAuMCU7Ij5OZXVzcywgRHVzc2VsZG9yZjwvZGl2PicpWzBdOwogICAgICAgICAgICAgICAgcG9wdXBfYjI2MGU5MGE5NTc3NGIxNGEwYTE5OWMwOTU5ODUyYjMuc2V0Q29udGVudChodG1sX2M3YzY2ZGRmMGU0ZjQ2ODliYWU5YWVjNjY1ZjZjYmQ0KTsKICAgICAgICAgICAgCgogICAgICAgICAgICBjaXJjbGVfbWFya2VyX2UxMzc0Y2M0MjU2YTRlMTY5NTYxMmQ0NmNlMWZiMjRkLmJpbmRQb3B1cChwb3B1cF9iMjYwZTkwYTk1Nzc0YjE0YTBhMTk5YzA5NTk4NTJiMyk7CgogICAgICAgICAgICAKICAgICAgICAKICAgIAogICAgICAgICAgICB2YXIgY2lyY2xlX21hcmtlcl8xYzNhZTQyZWE2NjU0NmYwYjdhODZiMjlhYzhhM2ZiMiA9IEwuY2lyY2xlTWFya2VyKAogICAgICAgICAgICAgICAgWzUxLjIyMjIwNjIsNi45MTIzMjQyXSwKICAgICAgICAgICAgICAgIHsKICAiYnViYmxpbmdNb3VzZUV2ZW50cyI6IHRydWUsCiAgImNvbG9yIjogInJlZCIsCiAgImRhc2hBcnJheSI6IG51bGwsCiAgImRhc2hPZmZzZXQiOiBudWxsLAogICJmaWxsIjogdHJ1ZSwKICAiZmlsbENvbG9yIjogIiMzMTg2Y2MiLAogICJmaWxsT3BhY2l0eSI6IDAuNywKICAiZmlsbFJ1bGUiOiAiZXZlbm9kZCIsCiAgImxpbmVDYXAiOiAicm91bmQiLAogICJsaW5lSm9pbiI6ICJyb3VuZCIsCiAgIm9wYWNpdHkiOiAxLjAsCiAgInJhZGl1cyI6IDEwLAogICJzdHJva2UiOiB0cnVlLAogICJ3ZWlnaHQiOiAzCn0KICAgICAgICAgICAgICAgICkuYWRkVG8obWFwX2IyMjE2NTk3YmY1ZTQ3Y2ViNzk3YjZmZjBiMmUyZWZhKTsKICAgICAgICAgICAgCiAgICAKICAgICAgICAgICAgdmFyIHBvcHVwX2YxYjBmODE4NWU0MzRlNzc5ZDliYjAyZTE4ZGVlYzFkID0gTC5wb3B1cCh7bWF4V2lkdGg6ICczMDAnfSk7CgogICAgICAgICAgICAKICAgICAgICAgICAgICAgIHZhciBodG1sXzZmZWI4MTJlZmI3ZTRmYzg5ZjgxYWU1ZmY1MDRiMzhjID0gJCgnPGRpdiBpZD0iaHRtbF82ZmViODEyZWZiN2U0ZmM4OWY4MWFlNWZmNTA0YjM4YyIgc3R5bGU9IndpZHRoOiAxMDAuMCU7IGhlaWdodDogMTAwLjAlOyI+RXJrcmF0aCwgRHVzc2VsZG9yZjwvZGl2PicpWzBdOwogICAgICAgICAgICAgICAgcG9wdXBfZjFiMGY4MTg1ZTQzNGU3NzlkOWJiMDJlMThkZWVjMWQuc2V0Q29udGVudChodG1sXzZmZWI4MTJlZmI3ZTRmYzg5ZjgxYWU1ZmY1MDRiMzhjKTsKICAgICAgICAgICAgCgogICAgICAgICAgICBjaXJjbGVfbWFya2VyXzFjM2FlNDJlYTY2NTQ2ZjBiN2E4NmIyOWFjOGEzZmIyLmJpbmRQb3B1cChwb3B1cF9mMWIwZjgxODVlNDM0ZTc3OWQ5YmIwMmUxOGRlZWMxZCk7CgogICAgICAgICAgICAKICAgICAgICAKICAgIAogICAgICAgICAgICB2YXIgY2lyY2xlX21hcmtlcl84NWQyY2IyNTZhZGM0MGQ2OWVlZTkzM2RhYzVmNjU0YiA9IEwuY2lyY2xlTWFya2VyKAogICAgICAgICAgICAgICAgWzUxLjMzMzEyMDUsNi41NjIzMzQzXSwKICAgICAgICAgICAgICAgIHsKICAiYnViYmxpbmdNb3VzZUV2ZW50cyI6IHRydWUsCiAgImNvbG9yIjogInJlZCIsCiAgImRhc2hBcnJheSI6IG51bGwsCiAgImRhc2hPZmZzZXQiOiBudWxsLAogICJmaWxsIjogdHJ1ZSwKICAiZmlsbENvbG9yIjogIiMzMTg2Y2MiLAogICJmaWxsT3BhY2l0eSI6IDAuNywKICAiZmlsbFJ1bGUiOiAiZXZlbm9kZCIsCiAgImxpbmVDYXAiOiAicm91bmQiLAogICJsaW5lSm9pbiI6ICJyb3VuZCIsCiAgIm9wYWNpdHkiOiAxLjAsCiAgInJhZGl1cyI6IDEwLAogICJzdHJva2UiOiB0cnVlLAogICJ3ZWlnaHQiOiAzCn0KICAgICAgICAgICAgICAgICkuYWRkVG8obWFwX2IyMjE2NTk3YmY1ZTQ3Y2ViNzk3YjZmZjBiMmUyZWZhKTsKICAgICAgICAgICAgCiAgICAKICAgICAgICAgICAgdmFyIHBvcHVwXzIzYjAzYjFhYWI4MDQxMTU5NWU0NTA5MzRhOGU4NTQ2ID0gTC5wb3B1cCh7bWF4V2lkdGg6ICczMDAnfSk7CgogICAgICAgICAgICAKICAgICAgICAgICAgICAgIHZhciBodG1sXzg4ODdiYjFiYWVmMjQxMGJhODAyMGQzMTI0ZjcxOTIyID0gJCgnPGRpdiBpZD0iaHRtbF84ODg3YmIxYmFlZjI0MTBiYTgwMjBkMzEyNGY3MTkyMiIgc3R5bGU9IndpZHRoOiAxMDAuMCU7IGhlaWdodDogMTAwLjAlOyI+S3JlZmVsZCwgRHVzc2VsZG9yZjwvZGl2PicpWzBdOwogICAgICAgICAgICAgICAgcG9wdXBfMjNiMDNiMWFhYjgwNDExNTk1ZTQ1MDkzNGE4ZTg1NDYuc2V0Q29udGVudChodG1sXzg4ODdiYjFiYWVmMjQxMGJhODAyMGQzMTI0ZjcxOTIyKTsKICAgICAgICAgICAgCgogICAgICAgICAgICBjaXJjbGVfbWFya2VyXzg1ZDJjYjI1NmFkYzQwZDY5ZWVlOTMzZGFjNWY2NTRiLmJpbmRQb3B1cChwb3B1cF8yM2IwM2IxYWFiODA0MTE1OTVlNDUwOTM0YThlODU0Nik7CgogICAgICAgICAgICAKICAgICAgICAKICAgIAogICAgICAgICAgICB2YXIgY2lyY2xlX21hcmtlcl9iYmM2MWNhNzcyMWI0N2NhYjAxZDE5N2E0MGRlYmVhYSA9IEwuY2lyY2xlTWFya2VyKAogICAgICAgICAgICAgICAgWzUxLjEwODQ4NjgsNi45NDg5NTg2Mjg0OTU0MV0sCiAgICAgICAgICAgICAgICB7CiAgImJ1YmJsaW5nTW91c2VFdmVudHMiOiB0cnVlLAogICJjb2xvciI6ICJyZWQiLAogICJkYXNoQXJyYXkiOiBudWxsLAogICJkYXNoT2Zmc2V0IjogbnVsbCwKICAiZmlsbCI6IHRydWUsCiAgImZpbGxDb2xvciI6ICIjMzE4NmNjIiwKICAiZmlsbE9wYWNpdHkiOiAwLjcsCiAgImZpbGxSdWxlIjogImV2ZW5vZGQiLAogICJsaW5lQ2FwIjogInJvdW5kIiwKICAibGluZUpvaW4iOiAicm91bmQiLAogICJvcGFjaXR5IjogMS4wLAogICJyYWRpdXMiOiAxMCwKICAic3Ryb2tlIjogdHJ1ZSwKICAid2VpZ2h0IjogMwp9CiAgICAgICAgICAgICAgICApLmFkZFRvKG1hcF9iMjIxNjU5N2JmNWU0N2NlYjc5N2I2ZmYwYjJlMmVmYSk7CiAgICAgICAgICAgIAogICAgCiAgICAgICAgICAgIHZhciBwb3B1cF83ZTZiZmU3ZjhiNDU0YTk3YWRhMTdkN2YzNTQ5OWYyZSA9IEwucG9wdXAoe21heFdpZHRoOiAnMzAwJ30pOwoKICAgICAgICAgICAgCiAgICAgICAgICAgICAgICB2YXIgaHRtbF9iYjk0OTE1YzlmNzI0ZDgwYTExZTBlNmNmY2I1ZmZhMyA9ICQoJzxkaXYgaWQ9Imh0bWxfYmI5NDkxNWM5ZjcyNGQ4MGExMWUwZTZjZmNiNWZmYTMiIHN0eWxlPSJ3aWR0aDogMTAwLjAlOyBoZWlnaHQ6IDEwMC4wJTsiPkxhbmdlbmZlbGQsIER1c3NlbGRvcmY8L2Rpdj4nKVswXTsKICAgICAgICAgICAgICAgIHBvcHVwXzdlNmJmZTdmOGI0NTRhOTdhZGExN2Q3ZjM1NDk5ZjJlLnNldENvbnRlbnQoaHRtbF9iYjk0OTE1YzlmNzI0ZDgwYTExZTBlNmNmY2I1ZmZhMyk7CiAgICAgICAgICAgIAoKICAgICAgICAgICAgY2lyY2xlX21hcmtlcl9iYmM2MWNhNzcyMWI0N2NhYjAxZDE5N2E0MGRlYmVhYS5iaW5kUG9wdXAocG9wdXBfN2U2YmZlN2Y4YjQ1NGE5N2FkYTE3ZDdmMzU0OTlmMmUpOwoKICAgICAgICAgICAgCiAgICAgICAgCjwvc2NyaXB0Pg==\" style=\"position:absolute;width:100%;height:100%;left:0;top:0;border:none !important;\" allowfullscreen webkitallowfullscreen mozallowfullscreen></iframe></div></div>",
                        "text/plain": "<folium.folium.Map at 0x7fa63e4ada20>"
                    },
                    "execution_count": 20,
                    "metadata": {},
                    "output_type": "execute_result"
                }
            ],
            "source": "# create map of New York using latitude and longitude values\nmap_dusseldorf = folium.Map(location=[latitude, longitude], zoom_start=9)\n\n# add markers to map\nfor lat, lng, borough, neighborhood in zip(df['Latitude'], df['Longitude'], df['Borough'], df['Neighborhood']):\n    label = '{}, {}'.format(neighborhood, borough)\n    label = folium.Popup(label, parse_html=True)\n    folium.CircleMarker(\n        [lat, lng],\n        radius=10,\n        popup=label,\n        color='red',\n        fill=True,\n        fill_color='#3186cc',\n        fill_opacity=0.7,\n        parse_html=False).add_to(map_dusseldorf)  \n    \nmap_dusseldorf"
        },
        {
            "cell_type": "markdown",
            "metadata": {},
            "source": "#### Define Foursquare Credentials and Version (I hid these cells)"
        },
        {
            "cell_type": "code",
            "execution_count": 21,
            "metadata": {
                "jupyter": {
                    "outputs_hidden": false
                }
            },
            "outputs": [],
            "source": "# The code was removed by Watson Studio for sharing."
        },
        {
            "cell_type": "markdown",
            "metadata": {},
            "source": "#### Explore the first neighborhood in our dataframe."
        },
        {
            "cell_type": "markdown",
            "metadata": {},
            "source": "Get the neighborhood's name."
        },
        {
            "cell_type": "code",
            "execution_count": 22,
            "metadata": {
                "jupyter": {
                    "outputs_hidden": false
                }
            },
            "outputs": [
                {
                    "data": {
                        "text/plain": "'Ratingen'"
                    },
                    "execution_count": 22,
                    "metadata": {},
                    "output_type": "execute_result"
                }
            ],
            "source": "df.loc[0, 'Neighborhood']"
        },
        {
            "cell_type": "markdown",
            "metadata": {},
            "source": "Get the neighborhood's latitude and longitude values."
        },
        {
            "cell_type": "code",
            "execution_count": 23,
            "metadata": {
                "jupyter": {
                    "outputs_hidden": false
                }
            },
            "outputs": [
                {
                    "name": "stdout",
                    "output_type": "stream",
                    "text": "Latitude and longitude values of Ratingen are 51.2973261, 6.8493503.\n"
                }
            ],
            "source": "neighborhood_latitude = df.loc[0, 'Latitude'] # neighborhood latitude value\nneighborhood_longitude = df.loc[0, 'Longitude'] # neighborhood longitude value\n\nneighborhood_name = df.loc[0, 'Neighborhood'] # neighborhood name\n\nprint('Latitude and longitude values of {} are {}, {}.'.format(neighborhood_name, \n                                                               neighborhood_latitude, \n                                                               neighborhood_longitude))"
        },
        {
            "cell_type": "markdown",
            "metadata": {},
            "source": "#### Let's get the top 10 venues that are in Ratingen within a radius of 1 kilometer."
        },
        {
            "cell_type": "markdown",
            "metadata": {},
            "source": "First, let's create the GET request URL."
        },
        {
            "cell_type": "code",
            "execution_count": 24,
            "metadata": {
                "jupyter": {
                    "outputs_hidden": false
                },
                "scrolled": true
            },
            "outputs": [],
            "source": "LIMIT = 10  # limit of number of venues returned by Foursquare API\n\nradius = 1000 # define radius in meters\n# create URL\nurl = 'https://api.foursquare.com/v2/venues/explore?&client_id={}&client_secret={}&v={}&ll={},{}&radius={}&limit={}'.format(\n    CLIENT_ID, \n    CLIENT_SECRET, \n    VERSION, \n    neighborhood_latitude, \n    neighborhood_longitude, \n    radius, \n    LIMIT)\n# display URL\n\n"
        },
        {
            "cell_type": "markdown",
            "metadata": {},
            "source": "Send the GET request and examine the results"
        },
        {
            "cell_type": "code",
            "execution_count": 25,
            "metadata": {
                "jupyter": {
                    "outputs_hidden": false
                }
            },
            "outputs": [
                {
                    "data": {
                        "text/plain": "{'meta': {'code': 200, 'requestId': '5e0cc9880be7b4001bc55848'},\n 'response': {'suggestedFilters': {'header': 'Tap to show:',\n   'filters': [{'name': 'Open now', 'key': 'openNow'}]},\n  'headerLocation': 'Ratingen',\n  'headerFullLocation': 'Ratingen',\n  'headerLocationGranularity': 'city',\n  'totalResults': 29,\n  'suggestedBounds': {'ne': {'lat': 51.30632610900001,\n    'lng': 6.863717012853388},\n   'sw': {'lat': 51.28832609099999, 'lng': 6.8349835871466125}},\n  'groups': [{'type': 'Recommended Places',\n    'name': 'recommended',\n    'items': [{'reasons': {'count': 0,\n       'items': [{'summary': 'This spot is popular',\n         'type': 'general',\n         'reasonName': 'globalInteractionReason'}]},\n      'venue': {'id': '4d6e8264134ea1436b8e911a',\n       'name': 'Il Gelato',\n       'location': {'address': 'Bechemer Stra\u00dfe 23',\n        'lat': 51.29630865481922,\n        'lng': 6.85085784103195,\n        'labeledLatLngs': [{'label': 'display',\n          'lat': 51.29630865481922,\n          'lng': 6.85085784103195}],\n        'distance': 154,\n        'postalCode': '40878',\n        'cc': 'DE',\n        'city': 'Ratingen',\n        'state': 'Nordrhein-Westfalen',\n        'country': 'Deutschland',\n        'formattedAddress': ['Bechemer Stra\u00dfe 23',\n         '40878 Ratingen',\n         'Deutschland']},\n       'categories': [{'id': '4bf58dd8d48988d1c9941735',\n         'name': 'Ice Cream Shop',\n         'pluralName': 'Ice Cream Shops',\n         'shortName': 'Ice Cream',\n         'icon': {'prefix': 'https://ss3.4sqi.net/img/categories_v2/food/icecream_',\n          'suffix': '.png'},\n         'primary': True}],\n       'photos': {'count': 0, 'groups': []}},\n      'referralId': 'e-0-4d6e8264134ea1436b8e911a-0'},\n     {'reasons': {'count': 0,\n       'items': [{'summary': 'This spot is popular',\n         'type': 'general',\n         'reasonName': 'globalInteractionReason'}]},\n      'venue': {'id': '54bccad6498e61f57b354b5f',\n       'name': 'Perfetto am Markt',\n       'location': {'address': 'Marktplatz 11-13',\n        'lat': 51.297560397751894,\n        'lng': 6.849489095367071,\n        'labeledLatLngs': [{'label': 'display',\n          'lat': 51.297560397751894,\n          'lng': 6.849489095367071}],\n        'distance': 27,\n        'postalCode': '40878',\n        'cc': 'DE',\n        'city': 'Ratingen',\n        'state': 'Nordrhein-Westfalen',\n        'country': 'Deutschland',\n        'formattedAddress': ['Marktplatz 11-13',\n         '40878 Ratingen',\n         'Deutschland']},\n       'categories': [{'id': '4bf58dd8d48988d1e0931735',\n         'name': 'Coffee Shop',\n         'pluralName': 'Coffee Shops',\n         'shortName': 'Coffee Shop',\n         'icon': {'prefix': 'https://ss3.4sqi.net/img/categories_v2/food/coffeeshop_',\n          'suffix': '.png'},\n         'primary': True}],\n       'photos': {'count': 0, 'groups': []}},\n      'referralId': 'e-0-54bccad6498e61f57b354b5f-1'},\n     {'reasons': {'count': 0,\n       'items': [{'summary': 'This spot is popular',\n         'type': 'general',\n         'reasonName': 'globalInteractionReason'}]},\n      'venue': {'id': '4ccbf076aa25a35d593d110f',\n       'name': 'Marktplatz',\n       'location': {'address': 'Marktplatz 1',\n        'lat': 51.29696355753072,\n        'lng': 6.849831545509334,\n        'labeledLatLngs': [{'label': 'display',\n          'lat': 51.29696355753072,\n          'lng': 6.849831545509334}],\n        'distance': 52,\n        'cc': 'DE',\n        'city': 'Ratingen',\n        'state': 'Nordrhein-Westfalen',\n        'country': 'Deutschland',\n        'formattedAddress': ['Marktplatz 1', 'Ratingen', 'Deutschland']},\n       'categories': [{'id': '4bf58dd8d48988d164941735',\n         'name': 'Plaza',\n         'pluralName': 'Plazas',\n         'shortName': 'Plaza',\n         'icon': {'prefix': 'https://ss3.4sqi.net/img/categories_v2/parks_outdoors/plaza_',\n          'suffix': '.png'},\n         'primary': True}],\n       'photos': {'count': 0, 'groups': []}},\n      'referralId': 'e-0-4ccbf076aa25a35d593d110f-2'},\n     {'reasons': {'count': 0,\n       'items': [{'summary': 'This spot is popular',\n         'type': 'general',\n         'reasonName': 'globalInteractionReason'}]},\n      'venue': {'id': '533820d9498e0405153ee481',\n       'name': 'James Joyce Irish Pub',\n       'location': {'address': 'Lintorfer Str. 2',\n        'lat': 51.29753835430852,\n        'lng': 6.848880877288848,\n        'labeledLatLngs': [{'label': 'display',\n          'lat': 51.29753835430852,\n          'lng': 6.848880877288848}],\n        'distance': 40,\n        'postalCode': '40878',\n        'cc': 'DE',\n        'city': 'Ratingen',\n        'state': 'Nordrhein-Westfalen',\n        'country': 'Deutschland',\n        'formattedAddress': ['Lintorfer Str. 2',\n         '40878 Ratingen',\n         'Deutschland']},\n       'categories': [{'id': '52e81612bcbc57f1066b7a06',\n         'name': 'Irish Pub',\n         'pluralName': 'Irish Pubs',\n         'shortName': 'Irish',\n         'icon': {'prefix': 'https://ss3.4sqi.net/img/categories_v2/nightlife/pub_',\n          'suffix': '.png'},\n         'primary': True}],\n       'photos': {'count': 0, 'groups': []}},\n      'referralId': 'e-0-533820d9498e0405153ee481-3'},\n     {'reasons': {'count': 0,\n       'items': [{'summary': 'This spot is popular',\n         'type': 'general',\n         'reasonName': 'globalInteractionReason'}]},\n      'venue': {'id': '515d45aee4120da088775692',\n       'name': 'R\u00f6sterei Rosendahl',\n       'location': {'address': 'Wallstra\u00dfe 28',\n        'lat': 51.295994329929016,\n        'lng': 6.849846839904785,\n        'labeledLatLngs': [{'label': 'display',\n          'lat': 51.295994329929016,\n          'lng': 6.849846839904785}],\n        'distance': 152,\n        'postalCode': '40878',\n        'cc': 'DE',\n        'city': 'Ratingen',\n        'state': 'Nordrhein-Westfalen',\n        'country': 'Deutschland',\n        'formattedAddress': ['Wallstra\u00dfe 28',\n         '40878 Ratingen',\n         'Deutschland']},\n       'categories': [{'id': '4bf58dd8d48988d16d941735',\n         'name': 'Caf\u00e9',\n         'pluralName': 'Caf\u00e9s',\n         'shortName': 'Caf\u00e9',\n         'icon': {'prefix': 'https://ss3.4sqi.net/img/categories_v2/food/cafe_',\n          'suffix': '.png'},\n         'primary': True}],\n       'photos': {'count': 0, 'groups': []}},\n      'referralId': 'e-0-515d45aee4120da088775692-4'},\n     {'reasons': {'count': 0,\n       'items': [{'summary': 'This spot is popular',\n         'type': 'general',\n         'reasonName': 'globalInteractionReason'}]},\n      'venue': {'id': '4c77cc9e59a3236acccac218',\n       'name': 'Ratinger Brauhaus',\n       'location': {'address': 'Bahnstr. 15',\n        'lat': 51.298166513943606,\n        'lng': 6.855692435917166,\n        'labeledLatLngs': [{'label': 'display',\n          'lat': 51.298166513943606,\n          'lng': 6.855692435917166}],\n        'distance': 451,\n        'cc': 'DE',\n        'city': 'Ratingen',\n        'state': 'Nordrhein-Westfalen',\n        'country': 'Deutschland',\n        'formattedAddress': ['Bahnstr. 15', 'Ratingen', 'Deutschland']},\n       'categories': [{'id': '50327c8591d4c4b30a586d5d',\n         'name': 'Brewery',\n         'pluralName': 'Breweries',\n         'shortName': 'Brewery',\n         'icon': {'prefix': 'https://ss3.4sqi.net/img/categories_v2/food/brewery_',\n          'suffix': '.png'},\n         'primary': True}],\n       'photos': {'count': 0, 'groups': []}},\n      'referralId': 'e-0-4c77cc9e59a3236acccac218-5'},\n     {'reasons': {'count': 0,\n       'items': [{'summary': 'This spot is popular',\n         'type': 'general',\n         'reasonName': 'globalInteractionReason'}]},\n      'venue': {'id': '4c9d0fd90313370451335bd5',\n       'name': 'Kleiner Prinz',\n       'location': {'address': 'Wallstra\u00dfe 30',\n        'lat': 51.296441817131495,\n        'lng': 6.849263171274256,\n        'labeledLatLngs': [{'label': 'display',\n          'lat': 51.296441817131495,\n          'lng': 6.849263171274256}],\n        'distance': 98,\n        'postalCode': '40878',\n        'cc': 'DE',\n        'city': 'Ratingen',\n        'state': 'Nordrhein-Westfalen',\n        'country': 'Deutschland',\n        'formattedAddress': ['Wallstra\u00dfe 30',\n         '40878 Ratingen',\n         'Deutschland']},\n       'categories': [{'id': '4bf58dd8d48988d1c4941735',\n         'name': 'Restaurant',\n         'pluralName': 'Restaurants',\n         'shortName': 'Restaurant',\n         'icon': {'prefix': 'https://ss3.4sqi.net/img/categories_v2/food/default_',\n          'suffix': '.png'},\n         'primary': True}],\n       'photos': {'count': 0, 'groups': []}},\n      'referralId': 'e-0-4c9d0fd90313370451335bd5-6'},\n     {'reasons': {'count': 0,\n       'items': [{'summary': 'This spot is popular',\n         'type': 'general',\n         'reasonName': 'globalInteractionReason'}]},\n      'venue': {'id': '4cd59877a5b34688b2ef8e50',\n       'name': 'Talschl\u00f6sschen',\n       'location': {'address': 'Sch\u00fctzenstr. 35',\n        'lat': 51.291591,\n        'lng': 6.8505,\n        'labeledLatLngs': [{'label': 'display',\n          'lat': 51.291591,\n          'lng': 6.8505}],\n        'distance': 643,\n        'postalCode': '40878',\n        'cc': 'DE',\n        'city': 'Ratingen',\n        'state': 'Nordrhein-Westfalen',\n        'country': 'Deutschland',\n        'formattedAddress': ['Sch\u00fctzenstr. 35',\n         '40878 Ratingen',\n         'Deutschland']},\n       'categories': [{'id': '4bf58dd8d48988d116941735',\n         'name': 'Bar',\n         'pluralName': 'Bars',\n         'shortName': 'Bar',\n         'icon': {'prefix': 'https://ss3.4sqi.net/img/categories_v2/nightlife/pub_',\n          'suffix': '.png'},\n         'primary': True}],\n       'photos': {'count': 0, 'groups': []}},\n      'referralId': 'e-0-4cd59877a5b34688b2ef8e50-7'},\n     {'reasons': {'count': 0,\n       'items': [{'summary': 'This spot is popular',\n         'type': 'general',\n         'reasonName': 'globalInteractionReason'}]},\n      'venue': {'id': '4da589eef7b16ce044a54b6a',\n       'name': 'Restaurant Athen',\n       'location': {'address': 'Lintorfer Str. 7-9',\n        'lat': 51.297810342665024,\n        'lng': 6.84830552528414,\n        'labeledLatLngs': [{'label': 'display',\n          'lat': 51.297810342665024,\n          'lng': 6.84830552528414}],\n        'distance': 90,\n        'postalCode': '40878',\n        'cc': 'DE',\n        'city': 'Ratingen',\n        'state': 'Nordrhein-Westfalen',\n        'country': 'Deutschland',\n        'formattedAddress': ['Lintorfer Str. 7-9',\n         '40878 Ratingen',\n         'Deutschland']},\n       'categories': [{'id': '4bf58dd8d48988d10e941735',\n         'name': 'Greek Restaurant',\n         'pluralName': 'Greek Restaurants',\n         'shortName': 'Greek',\n         'icon': {'prefix': 'https://ss3.4sqi.net/img/categories_v2/food/greek_',\n          'suffix': '.png'},\n         'primary': True}],\n       'photos': {'count': 0, 'groups': []}},\n      'referralId': 'e-0-4da589eef7b16ce044a54b6a-8'},\n     {'reasons': {'count': 0,\n       'items': [{'summary': 'This spot is popular',\n         'type': 'general',\n         'reasonName': 'globalInteractionReason'}]},\n      'venue': {'id': '4cd97d1815d8b60c135f6b0e',\n       'name': 'Suitbertus-Stuben',\n       'location': {'address': 'Oberstra\u00dfe 23',\n        'crossStreet': 'Turmstra\u00dfe',\n        'lat': 51.298138,\n        'lng': 6.851856,\n        'labeledLatLngs': [{'label': 'display',\n          'lat': 51.298138,\n          'lng': 6.851856}],\n        'distance': 196,\n        'postalCode': '40878',\n        'cc': 'DE',\n        'city': 'Ratingen',\n        'state': 'Nordrhein-Westfalen',\n        'country': 'Deutschland',\n        'formattedAddress': ['Oberstra\u00dfe 23 (Turmstra\u00dfe)',\n         '40878 Ratingen',\n         'Deutschland']},\n       'categories': [{'id': '4bf58dd8d48988d10d941735',\n         'name': 'German Restaurant',\n         'pluralName': 'German Restaurants',\n         'shortName': 'German',\n         'icon': {'prefix': 'https://ss3.4sqi.net/img/categories_v2/food/german_',\n          'suffix': '.png'},\n         'primary': True}],\n       'photos': {'count': 0, 'groups': []}},\n      'referralId': 'e-0-4cd97d1815d8b60c135f6b0e-9'}]}]}}"
                    },
                    "execution_count": 25,
                    "metadata": {},
                    "output_type": "execute_result"
                }
            ],
            "source": "results = requests.get(url).json()\nresults"
        },
        {
            "cell_type": "markdown",
            "metadata": {},
            "source": "Let's borrow the **get_category_type** function from the Foursquare lab."
        },
        {
            "cell_type": "code",
            "execution_count": 26,
            "metadata": {},
            "outputs": [],
            "source": "# function that extracts the category of the venue\ndef get_category_type(row):\n    try:\n        categories_list = row['categories']\n    except:\n        categories_list = row['venue.categories']\n        \n    if len(categories_list) == 0:\n        return None\n    else:\n        return categories_list[0]['name']"
        },
        {
            "cell_type": "markdown",
            "metadata": {},
            "source": "Now we are ready to clean the json and structure it into a *pandas* dataframe."
        },
        {
            "cell_type": "code",
            "execution_count": 27,
            "metadata": {
                "jupyter": {
                    "outputs_hidden": false
                }
            },
            "outputs": [
                {
                    "data": {
                        "text/html": "<div>\n<style scoped>\n    .dataframe tbody tr th:only-of-type {\n        vertical-align: middle;\n    }\n\n    .dataframe tbody tr th {\n        vertical-align: top;\n    }\n\n    .dataframe thead th {\n        text-align: right;\n    }\n</style>\n<table border=\"1\" class=\"dataframe\">\n  <thead>\n    <tr style=\"text-align: right;\">\n      <th></th>\n      <th>name</th>\n      <th>categories</th>\n      <th>lat</th>\n      <th>lng</th>\n    </tr>\n  </thead>\n  <tbody>\n    <tr>\n      <th>0</th>\n      <td>Il Gelato</td>\n      <td>Ice Cream Shop</td>\n      <td>51.296309</td>\n      <td>6.850858</td>\n    </tr>\n    <tr>\n      <th>1</th>\n      <td>Perfetto am Markt</td>\n      <td>Coffee Shop</td>\n      <td>51.297560</td>\n      <td>6.849489</td>\n    </tr>\n    <tr>\n      <th>2</th>\n      <td>Marktplatz</td>\n      <td>Plaza</td>\n      <td>51.296964</td>\n      <td>6.849832</td>\n    </tr>\n    <tr>\n      <th>3</th>\n      <td>James Joyce Irish Pub</td>\n      <td>Irish Pub</td>\n      <td>51.297538</td>\n      <td>6.848881</td>\n    </tr>\n    <tr>\n      <th>4</th>\n      <td>R\u00f6sterei Rosendahl</td>\n      <td>Caf\u00e9</td>\n      <td>51.295994</td>\n      <td>6.849847</td>\n    </tr>\n  </tbody>\n</table>\n</div>",
                        "text/plain": "                    name      categories        lat       lng\n0              Il Gelato  Ice Cream Shop  51.296309  6.850858\n1      Perfetto am Markt     Coffee Shop  51.297560  6.849489\n2             Marktplatz           Plaza  51.296964  6.849832\n3  James Joyce Irish Pub       Irish Pub  51.297538  6.848881\n4     R\u00f6sterei Rosendahl            Caf\u00e9  51.295994  6.849847"
                    },
                    "execution_count": 27,
                    "metadata": {},
                    "output_type": "execute_result"
                }
            ],
            "source": "venues = results['response']['groups'][0]['items']\n    \nnearby_venues = json_normalize(venues) # flatten JSON\n\n# filter columns\nfiltered_columns = ['venue.name', 'venue.categories', 'venue.location.lat', 'venue.location.lng']\nnearby_venues =nearby_venues.loc[:, filtered_columns]\n\n# filter the category for each row\nnearby_venues['venue.categories'] = nearby_venues.apply(get_category_type, axis=1)\n\n# clean columns\nnearby_venues.columns = [col.split(\".\")[-1] for col in nearby_venues.columns]\n\nnearby_venues.head()"
        },
        {
            "cell_type": "markdown",
            "metadata": {},
            "source": "<a id='item2'></a>"
        },
        {
            "cell_type": "markdown",
            "metadata": {},
            "source": "## Explore Neighborhoods in Dusseldorf"
        },
        {
            "cell_type": "markdown",
            "metadata": {},
            "source": "#### Let's create a function to repeat the same process to all the neighborhoods in Dusseldorf"
        },
        {
            "cell_type": "code",
            "execution_count": 28,
            "metadata": {},
            "outputs": [],
            "source": "def getNearbyVenues(names, latitudes, longitudes, radius=1000):\n    \n    venues_list=[]\n    for name, lat, lng in zip(names, latitudes, longitudes):\n        print(name)\n            \n        # create the API request URL\n        url = 'https://api.foursquare.com/v2/venues/explore?&client_id={}&client_secret={}&v={}&ll={},{}&radius={}&limit={}'.format(\n            CLIENT_ID, \n            CLIENT_SECRET, \n            VERSION, \n            lat, \n            lng, \n            radius, \n            LIMIT)\n            \n        # make the GET request\n        results = requests.get(url).json()[\"response\"]['groups'][0]['items']\n        \n        # return only relevant information for each nearby venue\n        venues_list.append([(\n            name, \n            lat, \n            lng, \n            v['venue']['name'], \n            v['venue']['location']['lat'], \n            v['venue']['location']['lng'],  \n            v['venue']['categories'][0]['name']) for v in results])\n\n    nearby_venues = pd.DataFrame([item for venue_list in venues_list for item in venue_list])\n    nearby_venues.columns = ['Neighborhood', \n                  'Neighborhood Latitude', \n                  'Neighborhood Longitude', \n                  'Venue', \n                  'Venue Latitude', \n                  'Venue Longitude', \n                  'Venue Category']\n    \n    return(nearby_venues)"
        },
        {
            "cell_type": "markdown",
            "metadata": {},
            "source": "#### Create a new dataframe called *Dusseldorf_venues*."
        },
        {
            "cell_type": "code",
            "execution_count": 29,
            "metadata": {
                "jupyter": {
                    "outputs_hidden": false
                },
                "scrolled": true
            },
            "outputs": [
                {
                    "name": "stdout",
                    "output_type": "stream",
                    "text": "Ratingen\nBochum\nCologne\nWuppertal\nMonchengladbach\nLeverkusen\nDuisburg\nNeuss\nErkrath\nKrefeld\nLangenfeld\n"
                }
            ],
            "source": "dusseldorf_venues = getNearbyVenues(names=df['Neighborhood'],\n                                   latitudes=df['Latitude'],\n                                   longitudes=df['Longitude']\n                                  )"
        },
        {
            "cell_type": "markdown",
            "metadata": {},
            "source": "#### Let's check the size of the resulting dataframe"
        },
        {
            "cell_type": "code",
            "execution_count": 30,
            "metadata": {
                "jupyter": {
                    "outputs_hidden": false
                }
            },
            "outputs": [
                {
                    "name": "stdout",
                    "output_type": "stream",
                    "text": "(110, 7)\n"
                },
                {
                    "data": {
                        "text/html": "<div>\n<style scoped>\n    .dataframe tbody tr th:only-of-type {\n        vertical-align: middle;\n    }\n\n    .dataframe tbody tr th {\n        vertical-align: top;\n    }\n\n    .dataframe thead th {\n        text-align: right;\n    }\n</style>\n<table border=\"1\" class=\"dataframe\">\n  <thead>\n    <tr style=\"text-align: right;\">\n      <th></th>\n      <th>Neighborhood</th>\n      <th>Neighborhood Latitude</th>\n      <th>Neighborhood Longitude</th>\n      <th>Venue</th>\n      <th>Venue Latitude</th>\n      <th>Venue Longitude</th>\n      <th>Venue Category</th>\n    </tr>\n  </thead>\n  <tbody>\n    <tr>\n      <th>0</th>\n      <td>Ratingen</td>\n      <td>51.297326</td>\n      <td>6.84935</td>\n      <td>Il Gelato</td>\n      <td>51.296309</td>\n      <td>6.850858</td>\n      <td>Ice Cream Shop</td>\n    </tr>\n    <tr>\n      <th>1</th>\n      <td>Ratingen</td>\n      <td>51.297326</td>\n      <td>6.84935</td>\n      <td>Perfetto am Markt</td>\n      <td>51.297560</td>\n      <td>6.849489</td>\n      <td>Coffee Shop</td>\n    </tr>\n    <tr>\n      <th>2</th>\n      <td>Ratingen</td>\n      <td>51.297326</td>\n      <td>6.84935</td>\n      <td>Marktplatz</td>\n      <td>51.296964</td>\n      <td>6.849832</td>\n      <td>Plaza</td>\n    </tr>\n    <tr>\n      <th>3</th>\n      <td>Ratingen</td>\n      <td>51.297326</td>\n      <td>6.84935</td>\n      <td>James Joyce Irish Pub</td>\n      <td>51.297538</td>\n      <td>6.848881</td>\n      <td>Irish Pub</td>\n    </tr>\n    <tr>\n      <th>4</th>\n      <td>Ratingen</td>\n      <td>51.297326</td>\n      <td>6.84935</td>\n      <td>R\u00f6sterei Rosendahl</td>\n      <td>51.295994</td>\n      <td>6.849847</td>\n      <td>Caf\u00e9</td>\n    </tr>\n  </tbody>\n</table>\n</div>",
                        "text/plain": "  Neighborhood  Neighborhood Latitude  Neighborhood Longitude  \\\n0     Ratingen              51.297326                 6.84935   \n1     Ratingen              51.297326                 6.84935   \n2     Ratingen              51.297326                 6.84935   \n3     Ratingen              51.297326                 6.84935   \n4     Ratingen              51.297326                 6.84935   \n\n                   Venue  Venue Latitude  Venue Longitude  Venue Category  \n0              Il Gelato       51.296309         6.850858  Ice Cream Shop  \n1      Perfetto am Markt       51.297560         6.849489     Coffee Shop  \n2             Marktplatz       51.296964         6.849832           Plaza  \n3  James Joyce Irish Pub       51.297538         6.848881       Irish Pub  \n4     R\u00f6sterei Rosendahl       51.295994         6.849847            Caf\u00e9  "
                    },
                    "execution_count": 30,
                    "metadata": {},
                    "output_type": "execute_result"
                }
            ],
            "source": "print(dusseldorf_venues.shape)\ndusseldorf_venues.head()"
        },
        {
            "cell_type": "markdown",
            "metadata": {},
            "source": "Let's check how many venues were returned for each neighborhood"
        },
        {
            "cell_type": "code",
            "execution_count": 31,
            "metadata": {
                "jupyter": {
                    "outputs_hidden": false
                }
            },
            "outputs": [
                {
                    "data": {
                        "text/html": "<div>\n<style scoped>\n    .dataframe tbody tr th:only-of-type {\n        vertical-align: middle;\n    }\n\n    .dataframe tbody tr th {\n        vertical-align: top;\n    }\n\n    .dataframe thead th {\n        text-align: right;\n    }\n</style>\n<table border=\"1\" class=\"dataframe\">\n  <thead>\n    <tr style=\"text-align: right;\">\n      <th></th>\n      <th>Neighborhood Latitude</th>\n      <th>Neighborhood Longitude</th>\n      <th>Venue</th>\n      <th>Venue Latitude</th>\n      <th>Venue Longitude</th>\n      <th>Venue Category</th>\n    </tr>\n    <tr>\n      <th>Neighborhood</th>\n      <th></th>\n      <th></th>\n      <th></th>\n      <th></th>\n      <th></th>\n      <th></th>\n    </tr>\n  </thead>\n  <tbody>\n    <tr>\n      <th>Bochum</th>\n      <td>10</td>\n      <td>10</td>\n      <td>10</td>\n      <td>10</td>\n      <td>10</td>\n      <td>10</td>\n    </tr>\n    <tr>\n      <th>Cologne</th>\n      <td>10</td>\n      <td>10</td>\n      <td>10</td>\n      <td>10</td>\n      <td>10</td>\n      <td>10</td>\n    </tr>\n    <tr>\n      <th>Duisburg</th>\n      <td>10</td>\n      <td>10</td>\n      <td>10</td>\n      <td>10</td>\n      <td>10</td>\n      <td>10</td>\n    </tr>\n    <tr>\n      <th>Erkrath</th>\n      <td>10</td>\n      <td>10</td>\n      <td>10</td>\n      <td>10</td>\n      <td>10</td>\n      <td>10</td>\n    </tr>\n    <tr>\n      <th>Krefeld</th>\n      <td>10</td>\n      <td>10</td>\n      <td>10</td>\n      <td>10</td>\n      <td>10</td>\n      <td>10</td>\n    </tr>\n    <tr>\n      <th>Langenfeld</th>\n      <td>10</td>\n      <td>10</td>\n      <td>10</td>\n      <td>10</td>\n      <td>10</td>\n      <td>10</td>\n    </tr>\n    <tr>\n      <th>Leverkusen</th>\n      <td>10</td>\n      <td>10</td>\n      <td>10</td>\n      <td>10</td>\n      <td>10</td>\n      <td>10</td>\n    </tr>\n    <tr>\n      <th>Monchengladbach</th>\n      <td>10</td>\n      <td>10</td>\n      <td>10</td>\n      <td>10</td>\n      <td>10</td>\n      <td>10</td>\n    </tr>\n    <tr>\n      <th>Neuss</th>\n      <td>10</td>\n      <td>10</td>\n      <td>10</td>\n      <td>10</td>\n      <td>10</td>\n      <td>10</td>\n    </tr>\n    <tr>\n      <th>Ratingen</th>\n      <td>10</td>\n      <td>10</td>\n      <td>10</td>\n      <td>10</td>\n      <td>10</td>\n      <td>10</td>\n    </tr>\n    <tr>\n      <th>Wuppertal</th>\n      <td>10</td>\n      <td>10</td>\n      <td>10</td>\n      <td>10</td>\n      <td>10</td>\n      <td>10</td>\n    </tr>\n  </tbody>\n</table>\n</div>",
                        "text/plain": "                 Neighborhood Latitude  Neighborhood Longitude  Venue  \\\nNeighborhood                                                            \nBochum                              10                      10     10   \nCologne                             10                      10     10   \nDuisburg                            10                      10     10   \nErkrath                             10                      10     10   \nKrefeld                             10                      10     10   \nLangenfeld                          10                      10     10   \nLeverkusen                          10                      10     10   \nMonchengladbach                     10                      10     10   \nNeuss                               10                      10     10   \nRatingen                            10                      10     10   \nWuppertal                           10                      10     10   \n\n                 Venue Latitude  Venue Longitude  Venue Category  \nNeighborhood                                                      \nBochum                       10               10              10  \nCologne                      10               10              10  \nDuisburg                     10               10              10  \nErkrath                      10               10              10  \nKrefeld                      10               10              10  \nLangenfeld                   10               10              10  \nLeverkusen                   10               10              10  \nMonchengladbach              10               10              10  \nNeuss                        10               10              10  \nRatingen                     10               10              10  \nWuppertal                    10               10              10  "
                    },
                    "execution_count": 31,
                    "metadata": {},
                    "output_type": "execute_result"
                }
            ],
            "source": "dusseldorf_venues.groupby('Neighborhood').count()"
        },
        {
            "cell_type": "markdown",
            "metadata": {},
            "source": "#### Result:\nThe dataframe has 10 inputs for each city and column. So, lots of data for the neighborhoods exist!"
        },
        {
            "cell_type": "markdown",
            "metadata": {},
            "source": "#### Let's find out how many unique categories can be curated from all the returned venues"
        },
        {
            "cell_type": "code",
            "execution_count": 33,
            "metadata": {
                "jupyter": {
                    "outputs_hidden": false
                }
            },
            "outputs": [
                {
                    "name": "stdout",
                    "output_type": "stream",
                    "text": "There are 49 uniques categories.\n"
                }
            ],
            "source": "print('There are {} uniques categories.'.format(len(dusseldorf_venues['Venue Category'].unique())))"
        },
        {
            "cell_type": "markdown",
            "metadata": {},
            "source": "# 4. Results section "
        },
        {
            "cell_type": "markdown",
            "metadata": {},
            "source": "<a id='item3'></a>"
        },
        {
            "cell_type": "markdown",
            "metadata": {},
            "source": "## Analyze Each Neighborhood"
        },
        {
            "cell_type": "code",
            "execution_count": 34,
            "metadata": {
                "jupyter": {
                    "outputs_hidden": false
                }
            },
            "outputs": [
                {
                    "data": {
                        "text/html": "<div>\n<style scoped>\n    .dataframe tbody tr th:only-of-type {\n        vertical-align: middle;\n    }\n\n    .dataframe tbody tr th {\n        vertical-align: top;\n    }\n\n    .dataframe thead th {\n        text-align: right;\n    }\n</style>\n<table border=\"1\" class=\"dataframe\">\n  <thead>\n    <tr style=\"text-align: right;\">\n      <th></th>\n      <th>Neighborhood</th>\n      <th>Argentinian Restaurant</th>\n      <th>Art Museum</th>\n      <th>Asian Restaurant</th>\n      <th>Bakery</th>\n      <th>Bar</th>\n      <th>Beer Bar</th>\n      <th>Beer Store</th>\n      <th>Bookstore</th>\n      <th>Brewery</th>\n      <th>Burger Joint</th>\n      <th>Cable Car</th>\n      <th>Caf\u00e9</th>\n      <th>Chinese Restaurant</th>\n      <th>Clothing Store</th>\n      <th>Coffee Shop</th>\n      <th>Concert Hall</th>\n      <th>Drugstore</th>\n      <th>Fast Food Restaurant</th>\n      <th>Gas Station</th>\n      <th>Gastropub</th>\n      <th>German Restaurant</th>\n      <th>Greek Restaurant</th>\n      <th>Grilled Meat Restaurant</th>\n      <th>Gym / Fitness Center</th>\n      <th>Hotel</th>\n      <th>Ice Cream Shop</th>\n      <th>Indian Restaurant</th>\n      <th>Indie Movie Theater</th>\n      <th>Irish Pub</th>\n      <th>Italian Restaurant</th>\n      <th>Jazz Club</th>\n      <th>Mongolian Restaurant</th>\n      <th>Park</th>\n      <th>Pedestrian Plaza</th>\n      <th>Pizza Place</th>\n      <th>Plaza</th>\n      <th>Pub</th>\n      <th>Restaurant</th>\n      <th>Salon / Barbershop</th>\n      <th>Shopping Mall</th>\n      <th>Steakhouse</th>\n      <th>Supermarket</th>\n      <th>Sushi Restaurant</th>\n      <th>Thai Restaurant</th>\n      <th>Theater</th>\n      <th>Toy / Game Store</th>\n      <th>Trail</th>\n      <th>Trattoria/Osteria</th>\n      <th>Turkish Restaurant</th>\n    </tr>\n  </thead>\n  <tbody>\n    <tr>\n      <th>0</th>\n      <td>Ratingen</td>\n      <td>0</td>\n      <td>0</td>\n      <td>0</td>\n      <td>0</td>\n      <td>0</td>\n      <td>0</td>\n      <td>0</td>\n      <td>0</td>\n      <td>0</td>\n      <td>0</td>\n      <td>0</td>\n      <td>0</td>\n      <td>0</td>\n      <td>0</td>\n      <td>0</td>\n      <td>0</td>\n      <td>0</td>\n      <td>0</td>\n      <td>0</td>\n      <td>0</td>\n      <td>0</td>\n      <td>0</td>\n      <td>0</td>\n      <td>0</td>\n      <td>0</td>\n      <td>1</td>\n      <td>0</td>\n      <td>0</td>\n      <td>0</td>\n      <td>0</td>\n      <td>0</td>\n      <td>0</td>\n      <td>0</td>\n      <td>0</td>\n      <td>0</td>\n      <td>0</td>\n      <td>0</td>\n      <td>0</td>\n      <td>0</td>\n      <td>0</td>\n      <td>0</td>\n      <td>0</td>\n      <td>0</td>\n      <td>0</td>\n      <td>0</td>\n      <td>0</td>\n      <td>0</td>\n      <td>0</td>\n      <td>0</td>\n    </tr>\n    <tr>\n      <th>1</th>\n      <td>Ratingen</td>\n      <td>0</td>\n      <td>0</td>\n      <td>0</td>\n      <td>0</td>\n      <td>0</td>\n      <td>0</td>\n      <td>0</td>\n      <td>0</td>\n      <td>0</td>\n      <td>0</td>\n      <td>0</td>\n      <td>0</td>\n      <td>0</td>\n      <td>0</td>\n      <td>1</td>\n      <td>0</td>\n      <td>0</td>\n      <td>0</td>\n      <td>0</td>\n      <td>0</td>\n      <td>0</td>\n      <td>0</td>\n      <td>0</td>\n      <td>0</td>\n      <td>0</td>\n      <td>0</td>\n      <td>0</td>\n      <td>0</td>\n      <td>0</td>\n      <td>0</td>\n      <td>0</td>\n      <td>0</td>\n      <td>0</td>\n      <td>0</td>\n      <td>0</td>\n      <td>0</td>\n      <td>0</td>\n      <td>0</td>\n      <td>0</td>\n      <td>0</td>\n      <td>0</td>\n      <td>0</td>\n      <td>0</td>\n      <td>0</td>\n      <td>0</td>\n      <td>0</td>\n      <td>0</td>\n      <td>0</td>\n      <td>0</td>\n    </tr>\n    <tr>\n      <th>2</th>\n      <td>Ratingen</td>\n      <td>0</td>\n      <td>0</td>\n      <td>0</td>\n      <td>0</td>\n      <td>0</td>\n      <td>0</td>\n      <td>0</td>\n      <td>0</td>\n      <td>0</td>\n      <td>0</td>\n      <td>0</td>\n      <td>0</td>\n      <td>0</td>\n      <td>0</td>\n      <td>0</td>\n      <td>0</td>\n      <td>0</td>\n      <td>0</td>\n      <td>0</td>\n      <td>0</td>\n      <td>0</td>\n      <td>0</td>\n      <td>0</td>\n      <td>0</td>\n      <td>0</td>\n      <td>0</td>\n      <td>0</td>\n      <td>0</td>\n      <td>0</td>\n      <td>0</td>\n      <td>0</td>\n      <td>0</td>\n      <td>0</td>\n      <td>0</td>\n      <td>0</td>\n      <td>1</td>\n      <td>0</td>\n      <td>0</td>\n      <td>0</td>\n      <td>0</td>\n      <td>0</td>\n      <td>0</td>\n      <td>0</td>\n      <td>0</td>\n      <td>0</td>\n      <td>0</td>\n      <td>0</td>\n      <td>0</td>\n      <td>0</td>\n    </tr>\n    <tr>\n      <th>3</th>\n      <td>Ratingen</td>\n      <td>0</td>\n      <td>0</td>\n      <td>0</td>\n      <td>0</td>\n      <td>0</td>\n      <td>0</td>\n      <td>0</td>\n      <td>0</td>\n      <td>0</td>\n      <td>0</td>\n      <td>0</td>\n      <td>0</td>\n      <td>0</td>\n      <td>0</td>\n      <td>0</td>\n      <td>0</td>\n      <td>0</td>\n      <td>0</td>\n      <td>0</td>\n      <td>0</td>\n      <td>0</td>\n      <td>0</td>\n      <td>0</td>\n      <td>0</td>\n      <td>0</td>\n      <td>0</td>\n      <td>0</td>\n      <td>0</td>\n      <td>1</td>\n      <td>0</td>\n      <td>0</td>\n      <td>0</td>\n      <td>0</td>\n      <td>0</td>\n      <td>0</td>\n      <td>0</td>\n      <td>0</td>\n      <td>0</td>\n      <td>0</td>\n      <td>0</td>\n      <td>0</td>\n      <td>0</td>\n      <td>0</td>\n      <td>0</td>\n      <td>0</td>\n      <td>0</td>\n      <td>0</td>\n      <td>0</td>\n      <td>0</td>\n    </tr>\n    <tr>\n      <th>4</th>\n      <td>Ratingen</td>\n      <td>0</td>\n      <td>0</td>\n      <td>0</td>\n      <td>0</td>\n      <td>0</td>\n      <td>0</td>\n      <td>0</td>\n      <td>0</td>\n      <td>0</td>\n      <td>0</td>\n      <td>0</td>\n      <td>1</td>\n      <td>0</td>\n      <td>0</td>\n      <td>0</td>\n      <td>0</td>\n      <td>0</td>\n      <td>0</td>\n      <td>0</td>\n      <td>0</td>\n      <td>0</td>\n      <td>0</td>\n      <td>0</td>\n      <td>0</td>\n      <td>0</td>\n      <td>0</td>\n      <td>0</td>\n      <td>0</td>\n      <td>0</td>\n      <td>0</td>\n      <td>0</td>\n      <td>0</td>\n      <td>0</td>\n      <td>0</td>\n      <td>0</td>\n      <td>0</td>\n      <td>0</td>\n      <td>0</td>\n      <td>0</td>\n      <td>0</td>\n      <td>0</td>\n      <td>0</td>\n      <td>0</td>\n      <td>0</td>\n      <td>0</td>\n      <td>0</td>\n      <td>0</td>\n      <td>0</td>\n      <td>0</td>\n    </tr>\n  </tbody>\n</table>\n</div>",
                        "text/plain": "  Neighborhood  Argentinian Restaurant  Art Museum  Asian Restaurant  Bakery  \\\n0     Ratingen                       0           0                 0       0   \n1     Ratingen                       0           0                 0       0   \n2     Ratingen                       0           0                 0       0   \n3     Ratingen                       0           0                 0       0   \n4     Ratingen                       0           0                 0       0   \n\n   Bar  Beer Bar  Beer Store  Bookstore  Brewery  Burger Joint  Cable Car  \\\n0    0         0           0          0        0             0          0   \n1    0         0           0          0        0             0          0   \n2    0         0           0          0        0             0          0   \n3    0         0           0          0        0             0          0   \n4    0         0           0          0        0             0          0   \n\n   Caf\u00e9  Chinese Restaurant  Clothing Store  Coffee Shop  Concert Hall  \\\n0     0                   0               0            0             0   \n1     0                   0               0            1             0   \n2     0                   0               0            0             0   \n3     0                   0               0            0             0   \n4     1                   0               0            0             0   \n\n   Drugstore  Fast Food Restaurant  Gas Station  Gastropub  German Restaurant  \\\n0          0                     0            0          0                  0   \n1          0                     0            0          0                  0   \n2          0                     0            0          0                  0   \n3          0                     0            0          0                  0   \n4          0                     0            0          0                  0   \n\n   Greek Restaurant  Grilled Meat Restaurant  Gym / Fitness Center  Hotel  \\\n0                 0                        0                     0      0   \n1                 0                        0                     0      0   \n2                 0                        0                     0      0   \n3                 0                        0                     0      0   \n4                 0                        0                     0      0   \n\n   Ice Cream Shop  Indian Restaurant  Indie Movie Theater  Irish Pub  \\\n0               1                  0                    0          0   \n1               0                  0                    0          0   \n2               0                  0                    0          0   \n3               0                  0                    0          1   \n4               0                  0                    0          0   \n\n   Italian Restaurant  Jazz Club  Mongolian Restaurant  Park  \\\n0                   0          0                     0     0   \n1                   0          0                     0     0   \n2                   0          0                     0     0   \n3                   0          0                     0     0   \n4                   0          0                     0     0   \n\n   Pedestrian Plaza  Pizza Place  Plaza  Pub  Restaurant  Salon / Barbershop  \\\n0                 0            0      0    0           0                   0   \n1                 0            0      0    0           0                   0   \n2                 0            0      1    0           0                   0   \n3                 0            0      0    0           0                   0   \n4                 0            0      0    0           0                   0   \n\n   Shopping Mall  Steakhouse  Supermarket  Sushi Restaurant  Thai Restaurant  \\\n0              0           0            0                 0                0   \n1              0           0            0                 0                0   \n2              0           0            0                 0                0   \n3              0           0            0                 0                0   \n4              0           0            0                 0                0   \n\n   Theater  Toy / Game Store  Trail  Trattoria/Osteria  Turkish Restaurant  \n0        0                 0      0                  0                   0  \n1        0                 0      0                  0                   0  \n2        0                 0      0                  0                   0  \n3        0                 0      0                  0                   0  \n4        0                 0      0                  0                   0  "
                    },
                    "execution_count": 34,
                    "metadata": {},
                    "output_type": "execute_result"
                }
            ],
            "source": "# one hot encoding\ndusseldorf_onehot = pd.get_dummies(dusseldorf_venues[['Venue Category']], prefix=\"\", prefix_sep=\"\")\n\n# add neighborhood column back to dataframe\ndusseldorf_onehot['Neighborhood'] = dusseldorf_venues['Neighborhood'] \n\n# move neighborhood column to the first column\nfixed_columns = [dusseldorf_onehot.columns[-1]] + list(dusseldorf_onehot.columns[:-1])\ndusseldorf_onehot = dusseldorf_onehot[fixed_columns]\n\ndusseldorf_onehot.head()"
        },
        {
            "cell_type": "markdown",
            "metadata": {},
            "source": "And let's examine the new dataframe size."
        },
        {
            "cell_type": "code",
            "execution_count": 35,
            "metadata": {
                "jupyter": {
                    "outputs_hidden": false
                }
            },
            "outputs": [
                {
                    "data": {
                        "text/plain": "(110, 50)"
                    },
                    "execution_count": 35,
                    "metadata": {},
                    "output_type": "execute_result"
                }
            ],
            "source": "dusseldorf_onehot.shape"
        },
        {
            "cell_type": "markdown",
            "metadata": {},
            "source": "#### Next, let's group rows by neighborhood and by taking the mean of the frequency of occurrence of each category"
        },
        {
            "cell_type": "code",
            "execution_count": 36,
            "metadata": {
                "jupyter": {
                    "outputs_hidden": false
                }
            },
            "outputs": [
                {
                    "data": {
                        "text/html": "<div>\n<style scoped>\n    .dataframe tbody tr th:only-of-type {\n        vertical-align: middle;\n    }\n\n    .dataframe tbody tr th {\n        vertical-align: top;\n    }\n\n    .dataframe thead th {\n        text-align: right;\n    }\n</style>\n<table border=\"1\" class=\"dataframe\">\n  <thead>\n    <tr style=\"text-align: right;\">\n      <th></th>\n      <th>Neighborhood</th>\n      <th>Argentinian Restaurant</th>\n      <th>Art Museum</th>\n      <th>Asian Restaurant</th>\n      <th>Bakery</th>\n      <th>Bar</th>\n      <th>Beer Bar</th>\n      <th>Beer Store</th>\n      <th>Bookstore</th>\n      <th>Brewery</th>\n      <th>Burger Joint</th>\n      <th>Cable Car</th>\n      <th>Caf\u00e9</th>\n      <th>Chinese Restaurant</th>\n      <th>Clothing Store</th>\n      <th>Coffee Shop</th>\n      <th>Concert Hall</th>\n      <th>Drugstore</th>\n      <th>Fast Food Restaurant</th>\n      <th>Gas Station</th>\n      <th>Gastropub</th>\n      <th>German Restaurant</th>\n      <th>Greek Restaurant</th>\n      <th>Grilled Meat Restaurant</th>\n      <th>Gym / Fitness Center</th>\n      <th>Hotel</th>\n      <th>Ice Cream Shop</th>\n      <th>Indian Restaurant</th>\n      <th>Indie Movie Theater</th>\n      <th>Irish Pub</th>\n      <th>Italian Restaurant</th>\n      <th>Jazz Club</th>\n      <th>Mongolian Restaurant</th>\n      <th>Park</th>\n      <th>Pedestrian Plaza</th>\n      <th>Pizza Place</th>\n      <th>Plaza</th>\n      <th>Pub</th>\n      <th>Restaurant</th>\n      <th>Salon / Barbershop</th>\n      <th>Shopping Mall</th>\n      <th>Steakhouse</th>\n      <th>Supermarket</th>\n      <th>Sushi Restaurant</th>\n      <th>Thai Restaurant</th>\n      <th>Theater</th>\n      <th>Toy / Game Store</th>\n      <th>Trail</th>\n      <th>Trattoria/Osteria</th>\n      <th>Turkish Restaurant</th>\n    </tr>\n  </thead>\n  <tbody>\n    <tr>\n      <th>0</th>\n      <td>Bochum</td>\n      <td>0.0</td>\n      <td>0.0</td>\n      <td>0.0</td>\n      <td>0.2</td>\n      <td>0.0</td>\n      <td>0.0</td>\n      <td>0.1</td>\n      <td>0.1</td>\n      <td>0.0</td>\n      <td>0.0</td>\n      <td>0.0</td>\n      <td>0.0</td>\n      <td>0.0</td>\n      <td>0.0</td>\n      <td>0.1</td>\n      <td>0.0</td>\n      <td>0.0</td>\n      <td>0.0</td>\n      <td>0.0</td>\n      <td>0.0</td>\n      <td>0.1</td>\n      <td>0.1</td>\n      <td>0.0</td>\n      <td>0.0</td>\n      <td>0.0</td>\n      <td>0.0</td>\n      <td>0.0</td>\n      <td>0.0</td>\n      <td>0.0</td>\n      <td>0.0</td>\n      <td>0.0</td>\n      <td>0.1</td>\n      <td>0.0</td>\n      <td>0.0</td>\n      <td>0.0</td>\n      <td>0.0</td>\n      <td>0.0</td>\n      <td>0.1</td>\n      <td>0.0</td>\n      <td>0.0</td>\n      <td>0.0</td>\n      <td>0.0</td>\n      <td>0.0</td>\n      <td>0.0</td>\n      <td>0.0</td>\n      <td>0.1</td>\n      <td>0.0</td>\n      <td>0.0</td>\n      <td>0.0</td>\n    </tr>\n    <tr>\n      <th>1</th>\n      <td>Cologne</td>\n      <td>0.0</td>\n      <td>0.1</td>\n      <td>0.0</td>\n      <td>0.0</td>\n      <td>0.0</td>\n      <td>0.1</td>\n      <td>0.0</td>\n      <td>0.0</td>\n      <td>0.1</td>\n      <td>0.0</td>\n      <td>0.0</td>\n      <td>0.0</td>\n      <td>0.0</td>\n      <td>0.0</td>\n      <td>0.0</td>\n      <td>0.1</td>\n      <td>0.0</td>\n      <td>0.0</td>\n      <td>0.0</td>\n      <td>0.0</td>\n      <td>0.0</td>\n      <td>0.0</td>\n      <td>0.0</td>\n      <td>0.0</td>\n      <td>0.0</td>\n      <td>0.0</td>\n      <td>0.0</td>\n      <td>0.0</td>\n      <td>0.0</td>\n      <td>0.0</td>\n      <td>0.1</td>\n      <td>0.0</td>\n      <td>0.1</td>\n      <td>0.1</td>\n      <td>0.0</td>\n      <td>0.2</td>\n      <td>0.0</td>\n      <td>0.0</td>\n      <td>0.0</td>\n      <td>0.0</td>\n      <td>0.1</td>\n      <td>0.0</td>\n      <td>0.0</td>\n      <td>0.0</td>\n      <td>0.0</td>\n      <td>0.0</td>\n      <td>0.0</td>\n      <td>0.0</td>\n      <td>0.0</td>\n    </tr>\n    <tr>\n      <th>2</th>\n      <td>Duisburg</td>\n      <td>0.0</td>\n      <td>0.0</td>\n      <td>0.1</td>\n      <td>0.0</td>\n      <td>0.0</td>\n      <td>0.0</td>\n      <td>0.0</td>\n      <td>0.0</td>\n      <td>0.1</td>\n      <td>0.0</td>\n      <td>0.0</td>\n      <td>0.2</td>\n      <td>0.0</td>\n      <td>0.0</td>\n      <td>0.0</td>\n      <td>0.0</td>\n      <td>0.0</td>\n      <td>0.0</td>\n      <td>0.0</td>\n      <td>0.0</td>\n      <td>0.0</td>\n      <td>0.0</td>\n      <td>0.0</td>\n      <td>0.0</td>\n      <td>0.0</td>\n      <td>0.1</td>\n      <td>0.0</td>\n      <td>0.1</td>\n      <td>0.0</td>\n      <td>0.0</td>\n      <td>0.0</td>\n      <td>0.0</td>\n      <td>0.0</td>\n      <td>0.0</td>\n      <td>0.0</td>\n      <td>0.0</td>\n      <td>0.0</td>\n      <td>0.0</td>\n      <td>0.1</td>\n      <td>0.0</td>\n      <td>0.0</td>\n      <td>0.0</td>\n      <td>0.0</td>\n      <td>0.2</td>\n      <td>0.0</td>\n      <td>0.0</td>\n      <td>0.0</td>\n      <td>0.1</td>\n      <td>0.0</td>\n    </tr>\n    <tr>\n      <th>3</th>\n      <td>Erkrath</td>\n      <td>0.0</td>\n      <td>0.0</td>\n      <td>0.0</td>\n      <td>0.2</td>\n      <td>0.0</td>\n      <td>0.0</td>\n      <td>0.0</td>\n      <td>0.0</td>\n      <td>0.0</td>\n      <td>0.0</td>\n      <td>0.0</td>\n      <td>0.0</td>\n      <td>0.0</td>\n      <td>0.0</td>\n      <td>0.0</td>\n      <td>0.0</td>\n      <td>0.1</td>\n      <td>0.1</td>\n      <td>0.1</td>\n      <td>0.0</td>\n      <td>0.1</td>\n      <td>0.0</td>\n      <td>0.0</td>\n      <td>0.0</td>\n      <td>0.1</td>\n      <td>0.1</td>\n      <td>0.0</td>\n      <td>0.0</td>\n      <td>0.0</td>\n      <td>0.0</td>\n      <td>0.0</td>\n      <td>0.0</td>\n      <td>0.0</td>\n      <td>0.0</td>\n      <td>0.0</td>\n      <td>0.0</td>\n      <td>0.0</td>\n      <td>0.0</td>\n      <td>0.0</td>\n      <td>0.1</td>\n      <td>0.0</td>\n      <td>0.1</td>\n      <td>0.0</td>\n      <td>0.0</td>\n      <td>0.0</td>\n      <td>0.0</td>\n      <td>0.0</td>\n      <td>0.0</td>\n      <td>0.0</td>\n    </tr>\n    <tr>\n      <th>4</th>\n      <td>Krefeld</td>\n      <td>0.0</td>\n      <td>0.0</td>\n      <td>0.0</td>\n      <td>0.0</td>\n      <td>0.0</td>\n      <td>0.0</td>\n      <td>0.0</td>\n      <td>0.1</td>\n      <td>0.0</td>\n      <td>0.0</td>\n      <td>0.0</td>\n      <td>0.5</td>\n      <td>0.0</td>\n      <td>0.0</td>\n      <td>0.0</td>\n      <td>0.0</td>\n      <td>0.1</td>\n      <td>0.0</td>\n      <td>0.0</td>\n      <td>0.0</td>\n      <td>0.0</td>\n      <td>0.0</td>\n      <td>0.0</td>\n      <td>0.0</td>\n      <td>0.0</td>\n      <td>0.0</td>\n      <td>0.1</td>\n      <td>0.0</td>\n      <td>0.0</td>\n      <td>0.2</td>\n      <td>0.0</td>\n      <td>0.0</td>\n      <td>0.0</td>\n      <td>0.0</td>\n      <td>0.0</td>\n      <td>0.0</td>\n      <td>0.0</td>\n      <td>0.0</td>\n      <td>0.0</td>\n      <td>0.0</td>\n      <td>0.0</td>\n      <td>0.0</td>\n      <td>0.0</td>\n      <td>0.0</td>\n      <td>0.0</td>\n      <td>0.0</td>\n      <td>0.0</td>\n      <td>0.0</td>\n      <td>0.0</td>\n    </tr>\n    <tr>\n      <th>5</th>\n      <td>Langenfeld</td>\n      <td>0.0</td>\n      <td>0.0</td>\n      <td>0.0</td>\n      <td>0.0</td>\n      <td>0.1</td>\n      <td>0.0</td>\n      <td>0.0</td>\n      <td>0.0</td>\n      <td>0.0</td>\n      <td>0.1</td>\n      <td>0.0</td>\n      <td>0.1</td>\n      <td>0.0</td>\n      <td>0.0</td>\n      <td>0.0</td>\n      <td>0.0</td>\n      <td>0.2</td>\n      <td>0.0</td>\n      <td>0.0</td>\n      <td>0.0</td>\n      <td>0.0</td>\n      <td>0.0</td>\n      <td>0.0</td>\n      <td>0.0</td>\n      <td>0.0</td>\n      <td>0.0</td>\n      <td>0.0</td>\n      <td>0.0</td>\n      <td>0.0</td>\n      <td>0.0</td>\n      <td>0.0</td>\n      <td>0.0</td>\n      <td>0.0</td>\n      <td>0.0</td>\n      <td>0.2</td>\n      <td>0.1</td>\n      <td>0.0</td>\n      <td>0.1</td>\n      <td>0.0</td>\n      <td>0.1</td>\n      <td>0.0</td>\n      <td>0.0</td>\n      <td>0.0</td>\n      <td>0.0</td>\n      <td>0.0</td>\n      <td>0.0</td>\n      <td>0.0</td>\n      <td>0.0</td>\n      <td>0.0</td>\n    </tr>\n    <tr>\n      <th>6</th>\n      <td>Leverkusen</td>\n      <td>0.0</td>\n      <td>0.0</td>\n      <td>0.0</td>\n      <td>0.0</td>\n      <td>0.0</td>\n      <td>0.0</td>\n      <td>0.0</td>\n      <td>0.0</td>\n      <td>0.0</td>\n      <td>0.0</td>\n      <td>0.0</td>\n      <td>0.1</td>\n      <td>0.1</td>\n      <td>0.1</td>\n      <td>0.1</td>\n      <td>0.0</td>\n      <td>0.1</td>\n      <td>0.0</td>\n      <td>0.0</td>\n      <td>0.0</td>\n      <td>0.0</td>\n      <td>0.0</td>\n      <td>0.0</td>\n      <td>0.0</td>\n      <td>0.0</td>\n      <td>0.1</td>\n      <td>0.0</td>\n      <td>0.0</td>\n      <td>0.0</td>\n      <td>0.3</td>\n      <td>0.0</td>\n      <td>0.0</td>\n      <td>0.0</td>\n      <td>0.0</td>\n      <td>0.0</td>\n      <td>0.0</td>\n      <td>0.0</td>\n      <td>0.0</td>\n      <td>0.0</td>\n      <td>0.1</td>\n      <td>0.0</td>\n      <td>0.0</td>\n      <td>0.0</td>\n      <td>0.0</td>\n      <td>0.0</td>\n      <td>0.0</td>\n      <td>0.0</td>\n      <td>0.0</td>\n      <td>0.0</td>\n    </tr>\n    <tr>\n      <th>7</th>\n      <td>Monchengladbach</td>\n      <td>0.1</td>\n      <td>0.0</td>\n      <td>0.1</td>\n      <td>0.0</td>\n      <td>0.0</td>\n      <td>0.0</td>\n      <td>0.0</td>\n      <td>0.0</td>\n      <td>0.0</td>\n      <td>0.0</td>\n      <td>0.0</td>\n      <td>0.1</td>\n      <td>0.0</td>\n      <td>0.1</td>\n      <td>0.1</td>\n      <td>0.0</td>\n      <td>0.0</td>\n      <td>0.0</td>\n      <td>0.0</td>\n      <td>0.0</td>\n      <td>0.1</td>\n      <td>0.0</td>\n      <td>0.0</td>\n      <td>0.1</td>\n      <td>0.0</td>\n      <td>0.0</td>\n      <td>0.0</td>\n      <td>0.0</td>\n      <td>0.0</td>\n      <td>0.0</td>\n      <td>0.0</td>\n      <td>0.0</td>\n      <td>0.0</td>\n      <td>0.0</td>\n      <td>0.1</td>\n      <td>0.0</td>\n      <td>0.0</td>\n      <td>0.0</td>\n      <td>0.0</td>\n      <td>0.1</td>\n      <td>0.0</td>\n      <td>0.0</td>\n      <td>0.1</td>\n      <td>0.0</td>\n      <td>0.0</td>\n      <td>0.0</td>\n      <td>0.0</td>\n      <td>0.0</td>\n      <td>0.0</td>\n    </tr>\n    <tr>\n      <th>8</th>\n      <td>Neuss</td>\n      <td>0.0</td>\n      <td>0.0</td>\n      <td>0.1</td>\n      <td>0.0</td>\n      <td>0.0</td>\n      <td>0.0</td>\n      <td>0.0</td>\n      <td>0.0</td>\n      <td>0.1</td>\n      <td>0.0</td>\n      <td>0.0</td>\n      <td>0.2</td>\n      <td>0.0</td>\n      <td>0.0</td>\n      <td>0.0</td>\n      <td>0.0</td>\n      <td>0.0</td>\n      <td>0.0</td>\n      <td>0.0</td>\n      <td>0.1</td>\n      <td>0.0</td>\n      <td>0.0</td>\n      <td>0.0</td>\n      <td>0.1</td>\n      <td>0.0</td>\n      <td>0.1</td>\n      <td>0.0</td>\n      <td>0.0</td>\n      <td>0.0</td>\n      <td>0.1</td>\n      <td>0.0</td>\n      <td>0.0</td>\n      <td>0.0</td>\n      <td>0.0</td>\n      <td>0.0</td>\n      <td>0.0</td>\n      <td>0.1</td>\n      <td>0.0</td>\n      <td>0.0</td>\n      <td>0.0</td>\n      <td>0.0</td>\n      <td>0.0</td>\n      <td>0.0</td>\n      <td>0.0</td>\n      <td>0.0</td>\n      <td>0.0</td>\n      <td>0.0</td>\n      <td>0.0</td>\n      <td>0.1</td>\n    </tr>\n    <tr>\n      <th>9</th>\n      <td>Ratingen</td>\n      <td>0.0</td>\n      <td>0.0</td>\n      <td>0.0</td>\n      <td>0.0</td>\n      <td>0.1</td>\n      <td>0.0</td>\n      <td>0.0</td>\n      <td>0.0</td>\n      <td>0.1</td>\n      <td>0.0</td>\n      <td>0.0</td>\n      <td>0.1</td>\n      <td>0.0</td>\n      <td>0.0</td>\n      <td>0.1</td>\n      <td>0.0</td>\n      <td>0.0</td>\n      <td>0.0</td>\n      <td>0.0</td>\n      <td>0.0</td>\n      <td>0.1</td>\n      <td>0.1</td>\n      <td>0.0</td>\n      <td>0.0</td>\n      <td>0.0</td>\n      <td>0.1</td>\n      <td>0.0</td>\n      <td>0.0</td>\n      <td>0.1</td>\n      <td>0.0</td>\n      <td>0.0</td>\n      <td>0.0</td>\n      <td>0.0</td>\n      <td>0.0</td>\n      <td>0.0</td>\n      <td>0.1</td>\n      <td>0.0</td>\n      <td>0.1</td>\n      <td>0.0</td>\n      <td>0.0</td>\n      <td>0.0</td>\n      <td>0.0</td>\n      <td>0.0</td>\n      <td>0.0</td>\n      <td>0.0</td>\n      <td>0.0</td>\n      <td>0.0</td>\n      <td>0.0</td>\n      <td>0.0</td>\n    </tr>\n    <tr>\n      <th>10</th>\n      <td>Wuppertal</td>\n      <td>0.0</td>\n      <td>0.0</td>\n      <td>0.0</td>\n      <td>0.0</td>\n      <td>0.0</td>\n      <td>0.0</td>\n      <td>0.0</td>\n      <td>0.0</td>\n      <td>0.0</td>\n      <td>0.0</td>\n      <td>0.2</td>\n      <td>0.0</td>\n      <td>0.0</td>\n      <td>0.0</td>\n      <td>0.0</td>\n      <td>0.0</td>\n      <td>0.0</td>\n      <td>0.0</td>\n      <td>0.1</td>\n      <td>0.0</td>\n      <td>0.0</td>\n      <td>0.0</td>\n      <td>0.1</td>\n      <td>0.0</td>\n      <td>0.0</td>\n      <td>0.0</td>\n      <td>0.0</td>\n      <td>0.0</td>\n      <td>0.0</td>\n      <td>0.0</td>\n      <td>0.0</td>\n      <td>0.0</td>\n      <td>0.0</td>\n      <td>0.0</td>\n      <td>0.0</td>\n      <td>0.0</td>\n      <td>0.1</td>\n      <td>0.0</td>\n      <td>0.0</td>\n      <td>0.0</td>\n      <td>0.0</td>\n      <td>0.3</td>\n      <td>0.0</td>\n      <td>0.0</td>\n      <td>0.1</td>\n      <td>0.0</td>\n      <td>0.1</td>\n      <td>0.0</td>\n      <td>0.0</td>\n    </tr>\n  </tbody>\n</table>\n</div>",
                        "text/plain": "       Neighborhood  Argentinian Restaurant  Art Museum  Asian Restaurant  \\\n0            Bochum                     0.0         0.0               0.0   \n1           Cologne                     0.0         0.1               0.0   \n2          Duisburg                     0.0         0.0               0.1   \n3           Erkrath                     0.0         0.0               0.0   \n4           Krefeld                     0.0         0.0               0.0   \n5        Langenfeld                     0.0         0.0               0.0   \n6        Leverkusen                     0.0         0.0               0.0   \n7   Monchengladbach                     0.1         0.0               0.1   \n8             Neuss                     0.0         0.0               0.1   \n9          Ratingen                     0.0         0.0               0.0   \n10        Wuppertal                     0.0         0.0               0.0   \n\n    Bakery  Bar  Beer Bar  Beer Store  Bookstore  Brewery  Burger Joint  \\\n0      0.2  0.0       0.0         0.1        0.1      0.0           0.0   \n1      0.0  0.0       0.1         0.0        0.0      0.1           0.0   \n2      0.0  0.0       0.0         0.0        0.0      0.1           0.0   \n3      0.2  0.0       0.0         0.0        0.0      0.0           0.0   \n4      0.0  0.0       0.0         0.0        0.1      0.0           0.0   \n5      0.0  0.1       0.0         0.0        0.0      0.0           0.1   \n6      0.0  0.0       0.0         0.0        0.0      0.0           0.0   \n7      0.0  0.0       0.0         0.0        0.0      0.0           0.0   \n8      0.0  0.0       0.0         0.0        0.0      0.1           0.0   \n9      0.0  0.1       0.0         0.0        0.0      0.1           0.0   \n10     0.0  0.0       0.0         0.0        0.0      0.0           0.0   \n\n    Cable Car  Caf\u00e9  Chinese Restaurant  Clothing Store  Coffee Shop  \\\n0         0.0   0.0                 0.0             0.0          0.1   \n1         0.0   0.0                 0.0             0.0          0.0   \n2         0.0   0.2                 0.0             0.0          0.0   \n3         0.0   0.0                 0.0             0.0          0.0   \n4         0.0   0.5                 0.0             0.0          0.0   \n5         0.0   0.1                 0.0             0.0          0.0   \n6         0.0   0.1                 0.1             0.1          0.1   \n7         0.0   0.1                 0.0             0.1          0.1   \n8         0.0   0.2                 0.0             0.0          0.0   \n9         0.0   0.1                 0.0             0.0          0.1   \n10        0.2   0.0                 0.0             0.0          0.0   \n\n    Concert Hall  Drugstore  Fast Food Restaurant  Gas Station  Gastropub  \\\n0            0.0        0.0                   0.0          0.0        0.0   \n1            0.1        0.0                   0.0          0.0        0.0   \n2            0.0        0.0                   0.0          0.0        0.0   \n3            0.0        0.1                   0.1          0.1        0.0   \n4            0.0        0.1                   0.0          0.0        0.0   \n5            0.0        0.2                   0.0          0.0        0.0   \n6            0.0        0.1                   0.0          0.0        0.0   \n7            0.0        0.0                   0.0          0.0        0.0   \n8            0.0        0.0                   0.0          0.0        0.1   \n9            0.0        0.0                   0.0          0.0        0.0   \n10           0.0        0.0                   0.0          0.1        0.0   \n\n    German Restaurant  Greek Restaurant  Grilled Meat Restaurant  \\\n0                 0.1               0.1                      0.0   \n1                 0.0               0.0                      0.0   \n2                 0.0               0.0                      0.0   \n3                 0.1               0.0                      0.0   \n4                 0.0               0.0                      0.0   \n5                 0.0               0.0                      0.0   \n6                 0.0               0.0                      0.0   \n7                 0.1               0.0                      0.0   \n8                 0.0               0.0                      0.0   \n9                 0.1               0.1                      0.0   \n10                0.0               0.0                      0.1   \n\n    Gym / Fitness Center  Hotel  Ice Cream Shop  Indian Restaurant  \\\n0                    0.0    0.0             0.0                0.0   \n1                    0.0    0.0             0.0                0.0   \n2                    0.0    0.0             0.1                0.0   \n3                    0.0    0.1             0.1                0.0   \n4                    0.0    0.0             0.0                0.1   \n5                    0.0    0.0             0.0                0.0   \n6                    0.0    0.0             0.1                0.0   \n7                    0.1    0.0             0.0                0.0   \n8                    0.1    0.0             0.1                0.0   \n9                    0.0    0.0             0.1                0.0   \n10                   0.0    0.0             0.0                0.0   \n\n    Indie Movie Theater  Irish Pub  Italian Restaurant  Jazz Club  \\\n0                   0.0        0.0                 0.0        0.0   \n1                   0.0        0.0                 0.0        0.1   \n2                   0.1        0.0                 0.0        0.0   \n3                   0.0        0.0                 0.0        0.0   \n4                   0.0        0.0                 0.2        0.0   \n5                   0.0        0.0                 0.0        0.0   \n6                   0.0        0.0                 0.3        0.0   \n7                   0.0        0.0                 0.0        0.0   \n8                   0.0        0.0                 0.1        0.0   \n9                   0.0        0.1                 0.0        0.0   \n10                  0.0        0.0                 0.0        0.0   \n\n    Mongolian Restaurant  Park  Pedestrian Plaza  Pizza Place  Plaza  Pub  \\\n0                    0.1   0.0               0.0          0.0    0.0  0.0   \n1                    0.0   0.1               0.1          0.0    0.2  0.0   \n2                    0.0   0.0               0.0          0.0    0.0  0.0   \n3                    0.0   0.0               0.0          0.0    0.0  0.0   \n4                    0.0   0.0               0.0          0.0    0.0  0.0   \n5                    0.0   0.0               0.0          0.2    0.1  0.0   \n6                    0.0   0.0               0.0          0.0    0.0  0.0   \n7                    0.0   0.0               0.0          0.1    0.0  0.0   \n8                    0.0   0.0               0.0          0.0    0.0  0.1   \n9                    0.0   0.0               0.0          0.0    0.1  0.0   \n10                   0.0   0.0               0.0          0.0    0.0  0.1   \n\n    Restaurant  Salon / Barbershop  Shopping Mall  Steakhouse  Supermarket  \\\n0          0.1                 0.0            0.0         0.0          0.0   \n1          0.0                 0.0            0.0         0.1          0.0   \n2          0.0                 0.1            0.0         0.0          0.0   \n3          0.0                 0.0            0.1         0.0          0.1   \n4          0.0                 0.0            0.0         0.0          0.0   \n5          0.1                 0.0            0.1         0.0          0.0   \n6          0.0                 0.0            0.1         0.0          0.0   \n7          0.0                 0.0            0.1         0.0          0.0   \n8          0.0                 0.0            0.0         0.0          0.0   \n9          0.1                 0.0            0.0         0.0          0.0   \n10         0.0                 0.0            0.0         0.0          0.3   \n\n    Sushi Restaurant  Thai Restaurant  Theater  Toy / Game Store  Trail  \\\n0                0.0              0.0      0.0               0.1    0.0   \n1                0.0              0.0      0.0               0.0    0.0   \n2                0.0              0.2      0.0               0.0    0.0   \n3                0.0              0.0      0.0               0.0    0.0   \n4                0.0              0.0      0.0               0.0    0.0   \n5                0.0              0.0      0.0               0.0    0.0   \n6                0.0              0.0      0.0               0.0    0.0   \n7                0.1              0.0      0.0               0.0    0.0   \n8                0.0              0.0      0.0               0.0    0.0   \n9                0.0              0.0      0.0               0.0    0.0   \n10               0.0              0.0      0.1               0.0    0.1   \n\n    Trattoria/Osteria  Turkish Restaurant  \n0                 0.0                 0.0  \n1                 0.0                 0.0  \n2                 0.1                 0.0  \n3                 0.0                 0.0  \n4                 0.0                 0.0  \n5                 0.0                 0.0  \n6                 0.0                 0.0  \n7                 0.0                 0.0  \n8                 0.0                 0.1  \n9                 0.0                 0.0  \n10                0.0                 0.0  "
                    },
                    "execution_count": 36,
                    "metadata": {},
                    "output_type": "execute_result"
                }
            ],
            "source": "dusseldorf_grouped = dusseldorf_onehot.groupby('Neighborhood').mean().reset_index()\ndusseldorf_grouped"
        },
        {
            "cell_type": "markdown",
            "metadata": {},
            "source": "#### Result:\nAs you can see from the table above, eg. Krefeld has a mean of 0.5 for Cafes, which means that Krefeld already has lots of Cafes. So I would nat recommend to open a new Cafe in Krefeld. \n    "
        },
        {
            "cell_type": "markdown",
            "metadata": {},
            "source": "## Count the number of hot spots in all cities"
        },
        {
            "cell_type": "code",
            "execution_count": 37,
            "metadata": {},
            "outputs": [
                {
                    "data": {
                        "text/plain": "Neighborhood               BochumCologneDuisburgErkrathKrefeldLangenfeldL...\nArgentinian Restaurant                                                   0.1\nArt Museum                                                               0.1\nAsian Restaurant                                                         0.3\nBakery                                                                   0.4\nBar                                                                      0.2\nBeer Bar                                                                 0.1\nBeer Store                                                               0.1\nBookstore                                                                0.2\nBrewery                                                                  0.4\nBurger Joint                                                             0.1\nCable Car                                                                0.2\nCaf\u00e9                                                                     1.3\nChinese Restaurant                                                       0.1\nClothing Store                                                           0.2\nCoffee Shop                                                              0.4\nConcert Hall                                                             0.1\nDrugstore                                                                0.5\nFast Food Restaurant                                                     0.1\nGas Station                                                              0.2\nGastropub                                                                0.1\nGerman Restaurant                                                        0.4\nGreek Restaurant                                                         0.2\nGrilled Meat Restaurant                                                  0.1\nGym / Fitness Center                                                     0.2\nHotel                                                                    0.1\nIce Cream Shop                                                           0.5\nIndian Restaurant                                                        0.1\nIndie Movie Theater                                                      0.1\nIrish Pub                                                                0.1\nItalian Restaurant                                                       0.6\nJazz Club                                                                0.1\nMongolian Restaurant                                                     0.1\nPark                                                                     0.1\nPedestrian Plaza                                                         0.1\nPizza Place                                                              0.3\nPlaza                                                                    0.4\nPub                                                                      0.2\nRestaurant                                                               0.3\nSalon / Barbershop                                                       0.1\nShopping Mall                                                            0.4\nSteakhouse                                                               0.1\nSupermarket                                                              0.4\nSushi Restaurant                                                         0.1\nThai Restaurant                                                          0.2\nTheater                                                                  0.1\nToy / Game Store                                                         0.1\nTrail                                                                    0.1\nTrattoria/Osteria                                                        0.1\nTurkish Restaurant                                                       0.1\ndtype: object"
                    },
                    "execution_count": 37,
                    "metadata": {},
                    "output_type": "execute_result"
                }
            ],
            "source": "dusseldorf_sum = dusseldorf_grouped.sum(axis = 0)\ndusseldorf_sum"
        },
        {
            "cell_type": "markdown",
            "metadata": {},
            "source": "#### Result:\nFrom the count of the hot spots in all cities, you can see, that there are already a lot of Cafes, Italian Restaurants and Drugstores exist.\nBut there is only one of the following eg. hotel, Irish Pub or Game Store."
        },
        {
            "cell_type": "markdown",
            "metadata": {},
            "source": "#### Let's print each neighborhood along with the top 5 most common venues"
        },
        {
            "cell_type": "code",
            "execution_count": 38,
            "metadata": {
                "jupyter": {
                    "outputs_hidden": false
                }
            },
            "outputs": [
                {
                    "name": "stdout",
                    "output_type": "stream",
                    "text": "----Bochum----\n                  venue  freq\n0                Bakery   0.2\n1            Restaurant   0.1\n2  Mongolian Restaurant   0.1\n3      Toy / Game Store   0.1\n4            Beer Store   0.1\n\n\n----Cologne----\n          venue  freq\n0         Plaza   0.2\n1  Concert Hall   0.1\n2    Art Museum   0.1\n3     Jazz Club   0.1\n4      Beer Bar   0.1\n\n\n----Duisburg----\n               venue  freq\n0    Thai Restaurant   0.2\n1               Caf\u00e9   0.2\n2     Ice Cream Shop   0.1\n3   Asian Restaurant   0.1\n4  Trattoria/Osteria   0.1\n\n\n----Erkrath----\n               venue  freq\n0             Bakery   0.2\n1              Hotel   0.1\n2     Ice Cream Shop   0.1\n3  German Restaurant   0.1\n4        Supermarket   0.1\n\n\n----Krefeld----\n                venue  freq\n0                Caf\u00e9   0.5\n1  Italian Restaurant   0.2\n2           Bookstore   0.1\n3           Drugstore   0.1\n4   Indian Restaurant   0.1\n\n\n----Langenfeld----\n           venue  freq\n0    Pizza Place   0.2\n1      Drugstore   0.2\n2  Shopping Mall   0.1\n3     Restaurant   0.1\n4            Bar   0.1\n\n\n----Leverkusen----\n                venue  freq\n0  Italian Restaurant   0.3\n1       Shopping Mall   0.1\n2      Ice Cream Shop   0.1\n3           Drugstore   0.1\n4         Coffee Shop   0.1\n\n\n----Monchengladbach----\n                    venue  freq\n0  Argentinian Restaurant   0.1\n1        Sushi Restaurant   0.1\n2    Gym / Fitness Center   0.1\n3       German Restaurant   0.1\n4             Pizza Place   0.1\n\n\n----Neuss----\n                  venue  freq\n0                  Caf\u00e9   0.2\n1    Turkish Restaurant   0.1\n2               Brewery   0.1\n3        Ice Cream Shop   0.1\n4  Gym / Fitness Center   0.1\n\n\n----Ratingen----\n            venue  freq\n0     Coffee Shop   0.1\n1      Restaurant   0.1\n2  Ice Cream Shop   0.1\n3             Bar   0.1\n4         Brewery   0.1\n\n\n----Wuppertal----\n                     venue  freq\n0              Supermarket   0.3\n1                Cable Car   0.2\n2                    Trail   0.1\n3                  Theater   0.1\n4  Grilled Meat Restaurant   0.1\n\n\n"
                }
            ],
            "source": "num_top_venues = 5\n\nfor hood in dusseldorf_grouped['Neighborhood']:\n    print(\"----\"+hood+\"----\")\n    temp = dusseldorf_grouped[dusseldorf_grouped['Neighborhood'] == hood].T.reset_index()\n    temp.columns = ['venue','freq']\n    temp = temp.iloc[1:]\n    temp['freq'] = temp['freq'].astype(float)\n    temp = temp.round({'freq': 2})\n    print(temp.sort_values('freq', ascending=False).reset_index(drop=True).head(num_top_venues))\n    print('\\n')"
        },
        {
            "cell_type": "markdown",
            "metadata": {},
            "source": "#### Let's put that into a *pandas* dataframe"
        },
        {
            "cell_type": "markdown",
            "metadata": {},
            "source": "Definition of a function to sort the venues in descending order."
        },
        {
            "cell_type": "code",
            "execution_count": 39,
            "metadata": {},
            "outputs": [],
            "source": "def return_most_common_venues(row, num_top_venues):\n    row_categories = row.iloc[1:]\n    row_categories_sorted = row_categories.sort_values(ascending=False)\n    \n    return row_categories_sorted.index.values[0:num_top_venues]"
        },
        {
            "cell_type": "markdown",
            "metadata": {},
            "source": "Create the new dataframe and display the top 10 venues for each neighborhood."
        },
        {
            "cell_type": "code",
            "execution_count": 40,
            "metadata": {
                "jupyter": {
                    "outputs_hidden": false
                }
            },
            "outputs": [
                {
                    "data": {
                        "text/html": "<div>\n<style scoped>\n    .dataframe tbody tr th:only-of-type {\n        vertical-align: middle;\n    }\n\n    .dataframe tbody tr th {\n        vertical-align: top;\n    }\n\n    .dataframe thead th {\n        text-align: right;\n    }\n</style>\n<table border=\"1\" class=\"dataframe\">\n  <thead>\n    <tr style=\"text-align: right;\">\n      <th></th>\n      <th>Neighborhood</th>\n      <th>1st Most Common Venue</th>\n      <th>2nd Most Common Venue</th>\n      <th>3rd Most Common Venue</th>\n      <th>4th Most Common Venue</th>\n      <th>5th Most Common Venue</th>\n      <th>6th Most Common Venue</th>\n      <th>7th Most Common Venue</th>\n      <th>8th Most Common Venue</th>\n      <th>9th Most Common Venue</th>\n      <th>10th Most Common Venue</th>\n    </tr>\n  </thead>\n  <tbody>\n    <tr>\n      <th>0</th>\n      <td>Bochum</td>\n      <td>Bakery</td>\n      <td>Greek Restaurant</td>\n      <td>German Restaurant</td>\n      <td>Toy / Game Store</td>\n      <td>Beer Store</td>\n      <td>Bookstore</td>\n      <td>Restaurant</td>\n      <td>Coffee Shop</td>\n      <td>Mongolian Restaurant</td>\n      <td>Clothing Store</td>\n    </tr>\n    <tr>\n      <th>1</th>\n      <td>Cologne</td>\n      <td>Plaza</td>\n      <td>Park</td>\n      <td>Art Museum</td>\n      <td>Beer Bar</td>\n      <td>Steakhouse</td>\n      <td>Concert Hall</td>\n      <td>Brewery</td>\n      <td>Jazz Club</td>\n      <td>Pedestrian Plaza</td>\n      <td>Gastropub</td>\n    </tr>\n    <tr>\n      <th>2</th>\n      <td>Duisburg</td>\n      <td>Thai Restaurant</td>\n      <td>Caf\u00e9</td>\n      <td>Asian Restaurant</td>\n      <td>Trattoria/Osteria</td>\n      <td>Ice Cream Shop</td>\n      <td>Indie Movie Theater</td>\n      <td>Salon / Barbershop</td>\n      <td>Brewery</td>\n      <td>Turkish Restaurant</td>\n      <td>Clothing Store</td>\n    </tr>\n    <tr>\n      <th>3</th>\n      <td>Erkrath</td>\n      <td>Bakery</td>\n      <td>Hotel</td>\n      <td>German Restaurant</td>\n      <td>Ice Cream Shop</td>\n      <td>Gas Station</td>\n      <td>Supermarket</td>\n      <td>Fast Food Restaurant</td>\n      <td>Shopping Mall</td>\n      <td>Drugstore</td>\n      <td>Chinese Restaurant</td>\n    </tr>\n    <tr>\n      <th>4</th>\n      <td>Krefeld</td>\n      <td>Caf\u00e9</td>\n      <td>Italian Restaurant</td>\n      <td>Indian Restaurant</td>\n      <td>Bookstore</td>\n      <td>Drugstore</td>\n      <td>Chinese Restaurant</td>\n      <td>German Restaurant</td>\n      <td>Gastropub</td>\n      <td>Gas Station</td>\n      <td>Fast Food Restaurant</td>\n    </tr>\n  </tbody>\n</table>\n</div>",
                        "text/plain": "  Neighborhood 1st Most Common Venue 2nd Most Common Venue  \\\n0       Bochum                Bakery      Greek Restaurant   \n1      Cologne                 Plaza                  Park   \n2     Duisburg       Thai Restaurant                  Caf\u00e9   \n3      Erkrath                Bakery                 Hotel   \n4      Krefeld                  Caf\u00e9    Italian Restaurant   \n\n  3rd Most Common Venue 4th Most Common Venue 5th Most Common Venue  \\\n0     German Restaurant      Toy / Game Store            Beer Store   \n1            Art Museum              Beer Bar            Steakhouse   \n2      Asian Restaurant     Trattoria/Osteria        Ice Cream Shop   \n3     German Restaurant        Ice Cream Shop           Gas Station   \n4     Indian Restaurant             Bookstore             Drugstore   \n\n  6th Most Common Venue 7th Most Common Venue 8th Most Common Venue  \\\n0             Bookstore            Restaurant           Coffee Shop   \n1          Concert Hall               Brewery             Jazz Club   \n2   Indie Movie Theater    Salon / Barbershop               Brewery   \n3           Supermarket  Fast Food Restaurant         Shopping Mall   \n4    Chinese Restaurant     German Restaurant             Gastropub   \n\n  9th Most Common Venue 10th Most Common Venue  \n0  Mongolian Restaurant         Clothing Store  \n1      Pedestrian Plaza              Gastropub  \n2    Turkish Restaurant         Clothing Store  \n3             Drugstore     Chinese Restaurant  \n4           Gas Station   Fast Food Restaurant  "
                    },
                    "execution_count": 40,
                    "metadata": {},
                    "output_type": "execute_result"
                }
            ],
            "source": "num_top_venues = 10\n\nindicators = ['st', 'nd', 'rd']\n\n# create columns according to number of top venues\ncolumns = ['Neighborhood']\nfor ind in np.arange(num_top_venues):\n    try:\n        columns.append('{}{} Most Common Venue'.format(ind+1, indicators[ind]))\n    except:\n        columns.append('{}th Most Common Venue'.format(ind+1))\n\n# create a new dataframe\nneighborhoods_venues_sorted = pd.DataFrame(columns=columns)\nneighborhoods_venues_sorted['Neighborhood'] = dusseldorf_grouped['Neighborhood']\n\nfor ind in np.arange(dusseldorf_grouped.shape[0]):\n    neighborhoods_venues_sorted.iloc[ind, 1:] = return_most_common_venues(dusseldorf_grouped.iloc[ind, :], num_top_venues)\n\nneighborhoods_venues_sorted.head()"
        },
        {
            "cell_type": "markdown",
            "metadata": {},
            "source": "#### Result:\nAs you can see from the table above, Erkrath has lots of good restaurants, but no Cafe under the first 10 common venues. Do you want to open a Cafe in Erkrath?"
        },
        {
            "cell_type": "markdown",
            "metadata": {},
            "source": "<a id='item4'></a>"
        },
        {
            "cell_type": "markdown",
            "metadata": {},
            "source": "## Cluster Neighborhoods"
        },
        {
            "cell_type": "markdown",
            "metadata": {},
            "source": "Run *k*-means to cluster the neighborhood into 3 clusters."
        },
        {
            "cell_type": "code",
            "execution_count": 41,
            "metadata": {
                "jupyter": {
                    "outputs_hidden": false
                }
            },
            "outputs": [
                {
                    "data": {
                        "text/plain": "array([1, 1, 0, 1, 0, 1, 0, 0, 0, 1], dtype=int32)"
                    },
                    "execution_count": 41,
                    "metadata": {},
                    "output_type": "execute_result"
                }
            ],
            "source": "# set number of clusters\nkclusters = 3\n\ndusseldorf_grouped_clustering = dusseldorf_grouped.drop('Neighborhood', 1)\n\n# run k-means clustering\nkmeans = KMeans(n_clusters=kclusters, random_state=0).fit(dusseldorf_grouped_clustering)\n\n# check cluster labels generated for each row in the dataframe\nkmeans.labels_[0:10] "
        },
        {
            "cell_type": "code",
            "execution_count": 42,
            "metadata": {},
            "outputs": [
                {
                    "data": {
                        "text/plain": "KMeans(algorithm='auto', copy_x=True, init='k-means++', max_iter=300,\n    n_clusters=3, n_init=10, n_jobs=None, precompute_distances='auto',\n    random_state=0, tol=0.0001, verbose=0)"
                    },
                    "execution_count": 42,
                    "metadata": {},
                    "output_type": "execute_result"
                }
            ],
            "source": "kmeans"
        },
        {
            "cell_type": "markdown",
            "metadata": {},
            "source": "Let's create a new dataframe that includes the cluster as well as the top 10 venues for each neighborhood."
        },
        {
            "cell_type": "code",
            "execution_count": 43,
            "metadata": {
                "jupyter": {
                    "outputs_hidden": false
                }
            },
            "outputs": [
                {
                    "data": {
                        "text/html": "<div>\n<style scoped>\n    .dataframe tbody tr th:only-of-type {\n        vertical-align: middle;\n    }\n\n    .dataframe tbody tr th {\n        vertical-align: top;\n    }\n\n    .dataframe thead th {\n        text-align: right;\n    }\n</style>\n<table border=\"1\" class=\"dataframe\">\n  <thead>\n    <tr style=\"text-align: right;\">\n      <th></th>\n      <th>Borough</th>\n      <th>Neighborhood</th>\n      <th>Latitude</th>\n      <th>Longitude</th>\n      <th>Cluster Labels</th>\n      <th>1st Most Common Venue</th>\n      <th>2nd Most Common Venue</th>\n      <th>3rd Most Common Venue</th>\n      <th>4th Most Common Venue</th>\n      <th>5th Most Common Venue</th>\n      <th>6th Most Common Venue</th>\n      <th>7th Most Common Venue</th>\n      <th>8th Most Common Venue</th>\n      <th>9th Most Common Venue</th>\n      <th>10th Most Common Venue</th>\n    </tr>\n  </thead>\n  <tbody>\n    <tr>\n      <th>0</th>\n      <td>Dusseldorf</td>\n      <td>Ratingen</td>\n      <td>51.297326</td>\n      <td>6.849350</td>\n      <td>1</td>\n      <td>Plaza</td>\n      <td>Brewery</td>\n      <td>Ice Cream Shop</td>\n      <td>Irish Pub</td>\n      <td>Coffee Shop</td>\n      <td>Caf\u00e9</td>\n      <td>Greek Restaurant</td>\n      <td>Restaurant</td>\n      <td>German Restaurant</td>\n      <td>Bar</td>\n    </tr>\n    <tr>\n      <th>1</th>\n      <td>Dusseldorf</td>\n      <td>Bochum</td>\n      <td>51.481811</td>\n      <td>7.219664</td>\n      <td>1</td>\n      <td>Bakery</td>\n      <td>Greek Restaurant</td>\n      <td>German Restaurant</td>\n      <td>Toy / Game Store</td>\n      <td>Beer Store</td>\n      <td>Bookstore</td>\n      <td>Restaurant</td>\n      <td>Coffee Shop</td>\n      <td>Mongolian Restaurant</td>\n      <td>Clothing Store</td>\n    </tr>\n    <tr>\n      <th>2</th>\n      <td>Dusseldorf</td>\n      <td>Cologne</td>\n      <td>50.938361</td>\n      <td>6.959974</td>\n      <td>1</td>\n      <td>Plaza</td>\n      <td>Park</td>\n      <td>Art Museum</td>\n      <td>Beer Bar</td>\n      <td>Steakhouse</td>\n      <td>Concert Hall</td>\n      <td>Brewery</td>\n      <td>Jazz Club</td>\n      <td>Pedestrian Plaza</td>\n      <td>Gastropub</td>\n    </tr>\n    <tr>\n      <th>3</th>\n      <td>Dusseldorf</td>\n      <td>Wuppertal</td>\n      <td>51.264018</td>\n      <td>7.178037</td>\n      <td>2</td>\n      <td>Supermarket</td>\n      <td>Cable Car</td>\n      <td>Grilled Meat Restaurant</td>\n      <td>Trail</td>\n      <td>Theater</td>\n      <td>Gas Station</td>\n      <td>Pub</td>\n      <td>Caf\u00e9</td>\n      <td>German Restaurant</td>\n      <td>Gastropub</td>\n    </tr>\n    <tr>\n      <th>4</th>\n      <td>Dusseldorf</td>\n      <td>Monchengladbach</td>\n      <td>51.194698</td>\n      <td>6.435364</td>\n      <td>0</td>\n      <td>Argentinian Restaurant</td>\n      <td>Shopping Mall</td>\n      <td>German Restaurant</td>\n      <td>Coffee Shop</td>\n      <td>Clothing Store</td>\n      <td>Caf\u00e9</td>\n      <td>Pizza Place</td>\n      <td>Gym / Fitness Center</td>\n      <td>Asian Restaurant</td>\n      <td>Sushi Restaurant</td>\n    </tr>\n  </tbody>\n</table>\n</div>",
                        "text/plain": "      Borough     Neighborhood   Latitude  Longitude  Cluster Labels  \\\n0  Dusseldorf         Ratingen  51.297326   6.849350               1   \n1  Dusseldorf           Bochum  51.481811   7.219664               1   \n2  Dusseldorf          Cologne  50.938361   6.959974               1   \n3  Dusseldorf        Wuppertal  51.264018   7.178037               2   \n4  Dusseldorf  Monchengladbach  51.194698   6.435364               0   \n\n    1st Most Common Venue 2nd Most Common Venue    3rd Most Common Venue  \\\n0                   Plaza               Brewery           Ice Cream Shop   \n1                  Bakery      Greek Restaurant        German Restaurant   \n2                   Plaza                  Park               Art Museum   \n3             Supermarket             Cable Car  Grilled Meat Restaurant   \n4  Argentinian Restaurant         Shopping Mall        German Restaurant   \n\n  4th Most Common Venue 5th Most Common Venue 6th Most Common Venue  \\\n0             Irish Pub           Coffee Shop                  Caf\u00e9   \n1      Toy / Game Store            Beer Store             Bookstore   \n2              Beer Bar            Steakhouse          Concert Hall   \n3                 Trail               Theater           Gas Station   \n4           Coffee Shop        Clothing Store                  Caf\u00e9   \n\n  7th Most Common Venue 8th Most Common Venue 9th Most Common Venue  \\\n0      Greek Restaurant            Restaurant     German Restaurant   \n1            Restaurant           Coffee Shop  Mongolian Restaurant   \n2               Brewery             Jazz Club      Pedestrian Plaza   \n3                   Pub                  Caf\u00e9     German Restaurant   \n4           Pizza Place  Gym / Fitness Center      Asian Restaurant   \n\n  10th Most Common Venue  \n0                    Bar  \n1         Clothing Store  \n2              Gastropub  \n3              Gastropub  \n4       Sushi Restaurant  "
                    },
                    "execution_count": 43,
                    "metadata": {},
                    "output_type": "execute_result"
                }
            ],
            "source": "# add clustering labels\nneighborhoods_venues_sorted.insert(0, 'Cluster Labels', kmeans.labels_)\n\ndusseldorf_merged = df\n\n# merge to add latitude/longitude for each neighborhood\ndusseldorf_merged = dusseldorf_merged.join(neighborhoods_venues_sorted.set_index('Neighborhood'), on='Neighborhood')\n\ndusseldorf_merged.head()"
        },
        {
            "cell_type": "markdown",
            "metadata": {},
            "source": "Finally, let's visualize the resulting clusters"
        },
        {
            "cell_type": "code",
            "execution_count": 44,
            "metadata": {
                "jupyter": {
                    "outputs_hidden": false
                }
            },
            "outputs": [
                {
                    "data": {
                        "text/html": "<div style=\"width:100%;\"><div style=\"position:relative;width:100%;height:0;padding-bottom:60%;\"><iframe src=\"data:text/html;charset=utf-8;base64,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\" style=\"position:absolute;width:100%;height:100%;left:0;top:0;border:none !important;\" allowfullscreen webkitallowfullscreen mozallowfullscreen></iframe></div></div>",
                        "text/plain": "<folium.folium.Map at 0x7fa63e3ac240>"
                    },
                    "execution_count": 44,
                    "metadata": {},
                    "output_type": "execute_result"
                }
            ],
            "source": "# create map\nmap_clusters = folium.Map(location=[latitude, longitude], zoom_start=9)\n\n# set color scheme for the clusters\nx = np.arange(kclusters)\nys = [i + x + (i*x)**2 for i in range(kclusters)]\ncolors_array = cm.rainbow(np.linspace(0, 1, len(ys)))\nrainbow = [colors.rgb2hex(i) for i in colors_array]\n\n# add markers to the map\nmarkers_colors = []\nfor lat, lon, poi, cluster in zip(dusseldorf_merged['Latitude'], dusseldorf_merged['Longitude'], dusseldorf_merged['Neighborhood'], dusseldorf_merged['Cluster Labels']):\n    label = folium.Popup(str(poi) + ' Cluster ' + str(cluster), parse_html=True)\n    folium.CircleMarker(\n        [lat, lon],\n        radius=5,\n        popup=label,\n        color=rainbow[cluster-1],\n        fill=True,\n        fill_color=rainbow[cluster-1],\n        fill_opacity=0.7).add_to(map_clusters)\n       \nmap_clusters"
        },
        {
            "cell_type": "markdown",
            "metadata": {},
            "source": "<a id='item5'></a>"
        },
        {
            "cell_type": "markdown",
            "metadata": {},
            "source": "## Examine Clusters"
        },
        {
            "cell_type": "markdown",
            "metadata": {},
            "source": "Now, you can examine each cluster and determine the discriminating venue categories that distinguish each cluster. "
        },
        {
            "cell_type": "markdown",
            "metadata": {},
            "source": "#### Cluster 1"
        },
        {
            "cell_type": "code",
            "execution_count": 45,
            "metadata": {
                "jupyter": {
                    "outputs_hidden": false
                }
            },
            "outputs": [
                {
                    "data": {
                        "text/html": "<div>\n<style scoped>\n    .dataframe tbody tr th:only-of-type {\n        vertical-align: middle;\n    }\n\n    .dataframe tbody tr th {\n        vertical-align: top;\n    }\n\n    .dataframe thead th {\n        text-align: right;\n    }\n</style>\n<table border=\"1\" class=\"dataframe\">\n  <thead>\n    <tr style=\"text-align: right;\">\n      <th></th>\n      <th>Neighborhood</th>\n      <th>1st Most Common Venue</th>\n      <th>2nd Most Common Venue</th>\n      <th>3rd Most Common Venue</th>\n      <th>4th Most Common Venue</th>\n      <th>5th Most Common Venue</th>\n      <th>6th Most Common Venue</th>\n      <th>7th Most Common Venue</th>\n      <th>8th Most Common Venue</th>\n      <th>9th Most Common Venue</th>\n      <th>10th Most Common Venue</th>\n    </tr>\n  </thead>\n  <tbody>\n    <tr>\n      <th>4</th>\n      <td>Monchengladbach</td>\n      <td>Argentinian Restaurant</td>\n      <td>Shopping Mall</td>\n      <td>German Restaurant</td>\n      <td>Coffee Shop</td>\n      <td>Clothing Store</td>\n      <td>Caf\u00e9</td>\n      <td>Pizza Place</td>\n      <td>Gym / Fitness Center</td>\n      <td>Asian Restaurant</td>\n      <td>Sushi Restaurant</td>\n    </tr>\n    <tr>\n      <th>5</th>\n      <td>Leverkusen</td>\n      <td>Italian Restaurant</td>\n      <td>Caf\u00e9</td>\n      <td>Chinese Restaurant</td>\n      <td>Ice Cream Shop</td>\n      <td>Drugstore</td>\n      <td>Shopping Mall</td>\n      <td>Coffee Shop</td>\n      <td>Clothing Store</td>\n      <td>German Restaurant</td>\n      <td>Gastropub</td>\n    </tr>\n    <tr>\n      <th>6</th>\n      <td>Duisburg</td>\n      <td>Thai Restaurant</td>\n      <td>Caf\u00e9</td>\n      <td>Asian Restaurant</td>\n      <td>Trattoria/Osteria</td>\n      <td>Ice Cream Shop</td>\n      <td>Indie Movie Theater</td>\n      <td>Salon / Barbershop</td>\n      <td>Brewery</td>\n      <td>Turkish Restaurant</td>\n      <td>Clothing Store</td>\n    </tr>\n    <tr>\n      <th>7</th>\n      <td>Neuss</td>\n      <td>Caf\u00e9</td>\n      <td>Brewery</td>\n      <td>Ice Cream Shop</td>\n      <td>Gastropub</td>\n      <td>Italian Restaurant</td>\n      <td>Pub</td>\n      <td>Turkish Restaurant</td>\n      <td>Gym / Fitness Center</td>\n      <td>Asian Restaurant</td>\n      <td>Concert Hall</td>\n    </tr>\n    <tr>\n      <th>9</th>\n      <td>Krefeld</td>\n      <td>Caf\u00e9</td>\n      <td>Italian Restaurant</td>\n      <td>Indian Restaurant</td>\n      <td>Bookstore</td>\n      <td>Drugstore</td>\n      <td>Chinese Restaurant</td>\n      <td>German Restaurant</td>\n      <td>Gastropub</td>\n      <td>Gas Station</td>\n      <td>Fast Food Restaurant</td>\n    </tr>\n  </tbody>\n</table>\n</div>",
                        "text/plain": "      Neighborhood   1st Most Common Venue 2nd Most Common Venue  \\\n4  Monchengladbach  Argentinian Restaurant         Shopping Mall   \n5       Leverkusen      Italian Restaurant                  Caf\u00e9   \n6         Duisburg         Thai Restaurant                  Caf\u00e9   \n7            Neuss                    Caf\u00e9               Brewery   \n9          Krefeld                    Caf\u00e9    Italian Restaurant   \n\n  3rd Most Common Venue 4th Most Common Venue 5th Most Common Venue  \\\n4     German Restaurant           Coffee Shop        Clothing Store   \n5    Chinese Restaurant        Ice Cream Shop             Drugstore   \n6      Asian Restaurant     Trattoria/Osteria        Ice Cream Shop   \n7        Ice Cream Shop             Gastropub    Italian Restaurant   \n9     Indian Restaurant             Bookstore             Drugstore   \n\n  6th Most Common Venue 7th Most Common Venue 8th Most Common Venue  \\\n4                  Caf\u00e9           Pizza Place  Gym / Fitness Center   \n5         Shopping Mall           Coffee Shop        Clothing Store   \n6   Indie Movie Theater    Salon / Barbershop               Brewery   \n7                   Pub    Turkish Restaurant  Gym / Fitness Center   \n9    Chinese Restaurant     German Restaurant             Gastropub   \n\n  9th Most Common Venue 10th Most Common Venue  \n4      Asian Restaurant       Sushi Restaurant  \n5     German Restaurant              Gastropub  \n6    Turkish Restaurant         Clothing Store  \n7      Asian Restaurant           Concert Hall  \n9           Gas Station   Fast Food Restaurant  "
                    },
                    "execution_count": 45,
                    "metadata": {},
                    "output_type": "execute_result"
                }
            ],
            "source": "dusseldorf_merged.loc[dusseldorf_merged['Cluster Labels'] == 0, dusseldorf_merged.columns[[1] + list(range(5, dusseldorf_merged.shape[1]))]]"
        },
        {
            "cell_type": "markdown",
            "metadata": {},
            "source": "#### Cluster 2"
        },
        {
            "cell_type": "code",
            "execution_count": 46,
            "metadata": {
                "jupyter": {
                    "outputs_hidden": false
                }
            },
            "outputs": [
                {
                    "data": {
                        "text/html": "<div>\n<style scoped>\n    .dataframe tbody tr th:only-of-type {\n        vertical-align: middle;\n    }\n\n    .dataframe tbody tr th {\n        vertical-align: top;\n    }\n\n    .dataframe thead th {\n        text-align: right;\n    }\n</style>\n<table border=\"1\" class=\"dataframe\">\n  <thead>\n    <tr style=\"text-align: right;\">\n      <th></th>\n      <th>Neighborhood</th>\n      <th>1st Most Common Venue</th>\n      <th>2nd Most Common Venue</th>\n      <th>3rd Most Common Venue</th>\n      <th>4th Most Common Venue</th>\n      <th>5th Most Common Venue</th>\n      <th>6th Most Common Venue</th>\n      <th>7th Most Common Venue</th>\n      <th>8th Most Common Venue</th>\n      <th>9th Most Common Venue</th>\n      <th>10th Most Common Venue</th>\n    </tr>\n  </thead>\n  <tbody>\n    <tr>\n      <th>0</th>\n      <td>Ratingen</td>\n      <td>Plaza</td>\n      <td>Brewery</td>\n      <td>Ice Cream Shop</td>\n      <td>Irish Pub</td>\n      <td>Coffee Shop</td>\n      <td>Caf\u00e9</td>\n      <td>Greek Restaurant</td>\n      <td>Restaurant</td>\n      <td>German Restaurant</td>\n      <td>Bar</td>\n    </tr>\n    <tr>\n      <th>1</th>\n      <td>Bochum</td>\n      <td>Bakery</td>\n      <td>Greek Restaurant</td>\n      <td>German Restaurant</td>\n      <td>Toy / Game Store</td>\n      <td>Beer Store</td>\n      <td>Bookstore</td>\n      <td>Restaurant</td>\n      <td>Coffee Shop</td>\n      <td>Mongolian Restaurant</td>\n      <td>Clothing Store</td>\n    </tr>\n    <tr>\n      <th>2</th>\n      <td>Cologne</td>\n      <td>Plaza</td>\n      <td>Park</td>\n      <td>Art Museum</td>\n      <td>Beer Bar</td>\n      <td>Steakhouse</td>\n      <td>Concert Hall</td>\n      <td>Brewery</td>\n      <td>Jazz Club</td>\n      <td>Pedestrian Plaza</td>\n      <td>Gastropub</td>\n    </tr>\n    <tr>\n      <th>8</th>\n      <td>Erkrath</td>\n      <td>Bakery</td>\n      <td>Hotel</td>\n      <td>German Restaurant</td>\n      <td>Ice Cream Shop</td>\n      <td>Gas Station</td>\n      <td>Supermarket</td>\n      <td>Fast Food Restaurant</td>\n      <td>Shopping Mall</td>\n      <td>Drugstore</td>\n      <td>Chinese Restaurant</td>\n    </tr>\n    <tr>\n      <th>10</th>\n      <td>Langenfeld</td>\n      <td>Drugstore</td>\n      <td>Pizza Place</td>\n      <td>Plaza</td>\n      <td>Caf\u00e9</td>\n      <td>Bar</td>\n      <td>Shopping Mall</td>\n      <td>Restaurant</td>\n      <td>Burger Joint</td>\n      <td>Gastropub</td>\n      <td>Gas Station</td>\n    </tr>\n  </tbody>\n</table>\n</div>",
                        "text/plain": "   Neighborhood 1st Most Common Venue 2nd Most Common Venue  \\\n0      Ratingen                 Plaza               Brewery   \n1        Bochum                Bakery      Greek Restaurant   \n2       Cologne                 Plaza                  Park   \n8       Erkrath                Bakery                 Hotel   \n10   Langenfeld             Drugstore           Pizza Place   \n\n   3rd Most Common Venue 4th Most Common Venue 5th Most Common Venue  \\\n0         Ice Cream Shop             Irish Pub           Coffee Shop   \n1      German Restaurant      Toy / Game Store            Beer Store   \n2             Art Museum              Beer Bar            Steakhouse   \n8      German Restaurant        Ice Cream Shop           Gas Station   \n10                 Plaza                  Caf\u00e9                   Bar   \n\n   6th Most Common Venue 7th Most Common Venue 8th Most Common Venue  \\\n0                   Caf\u00e9      Greek Restaurant            Restaurant   \n1              Bookstore            Restaurant           Coffee Shop   \n2           Concert Hall               Brewery             Jazz Club   \n8            Supermarket  Fast Food Restaurant         Shopping Mall   \n10         Shopping Mall            Restaurant          Burger Joint   \n\n   9th Most Common Venue 10th Most Common Venue  \n0      German Restaurant                    Bar  \n1   Mongolian Restaurant         Clothing Store  \n2       Pedestrian Plaza              Gastropub  \n8              Drugstore     Chinese Restaurant  \n10             Gastropub            Gas Station  "
                    },
                    "execution_count": 46,
                    "metadata": {},
                    "output_type": "execute_result"
                }
            ],
            "source": "dusseldorf_merged.loc[dusseldorf_merged['Cluster Labels'] == 1, dusseldorf_merged.columns[[1] + list(range(5, dusseldorf_merged.shape[1]))]]"
        },
        {
            "cell_type": "markdown",
            "metadata": {},
            "source": "#### Cluster 3"
        },
        {
            "cell_type": "code",
            "execution_count": 47,
            "metadata": {
                "jupyter": {
                    "outputs_hidden": false
                }
            },
            "outputs": [
                {
                    "data": {
                        "text/html": "<div>\n<style scoped>\n    .dataframe tbody tr th:only-of-type {\n        vertical-align: middle;\n    }\n\n    .dataframe tbody tr th {\n        vertical-align: top;\n    }\n\n    .dataframe thead th {\n        text-align: right;\n    }\n</style>\n<table border=\"1\" class=\"dataframe\">\n  <thead>\n    <tr style=\"text-align: right;\">\n      <th></th>\n      <th>Neighborhood</th>\n      <th>1st Most Common Venue</th>\n      <th>2nd Most Common Venue</th>\n      <th>3rd Most Common Venue</th>\n      <th>4th Most Common Venue</th>\n      <th>5th Most Common Venue</th>\n      <th>6th Most Common Venue</th>\n      <th>7th Most Common Venue</th>\n      <th>8th Most Common Venue</th>\n      <th>9th Most Common Venue</th>\n      <th>10th Most Common Venue</th>\n    </tr>\n  </thead>\n  <tbody>\n    <tr>\n      <th>3</th>\n      <td>Wuppertal</td>\n      <td>Supermarket</td>\n      <td>Cable Car</td>\n      <td>Grilled Meat Restaurant</td>\n      <td>Trail</td>\n      <td>Theater</td>\n      <td>Gas Station</td>\n      <td>Pub</td>\n      <td>Caf\u00e9</td>\n      <td>German Restaurant</td>\n      <td>Gastropub</td>\n    </tr>\n  </tbody>\n</table>\n</div>",
                        "text/plain": "  Neighborhood 1st Most Common Venue 2nd Most Common Venue  \\\n3    Wuppertal           Supermarket             Cable Car   \n\n     3rd Most Common Venue 4th Most Common Venue 5th Most Common Venue  \\\n3  Grilled Meat Restaurant                 Trail               Theater   \n\n  6th Most Common Venue 7th Most Common Venue 8th Most Common Venue  \\\n3           Gas Station                   Pub                  Caf\u00e9   \n\n  9th Most Common Venue 10th Most Common Venue  \n3     German Restaurant              Gastropub  "
                    },
                    "execution_count": 47,
                    "metadata": {},
                    "output_type": "execute_result"
                }
            ],
            "source": "dusseldorf_merged.loc[dusseldorf_merged['Cluster Labels'] == 2, dusseldorf_merged.columns[[1] + list(range(5, dusseldorf_merged.shape[1]))]]"
        },
        {
            "cell_type": "markdown",
            "metadata": {},
            "source": "# 5. Discussion section "
        },
        {
            "cell_type": "markdown",
            "metadata": {},
            "source": "After exploring the data of common venues in cities around Dusseldorf we see a lot of interesting results:\n1. First of all, the neighborhood of Dusseldorf is very large. You can see that from the latitude and longitude of the different cities around Dusseldorf. The latitude and the longitude don't differ much.\n2. Furthermore, you can observe that Erkrath has lots of good restaurants, but no Cafe under the first 10 common venues. Do you want to open a Cafe in Erkrath?\n3. In Duisburg, there are already lots of restaurant or other shops related to food and drink. It seems that there are no famous parks, rivers, or plazas. So, if you like the nature, it is maybe not the best place to move to. But if Duisburg is your preferred city, I recommend to open a concert hall or a gym to entertain the population.\n4. Wuppertal seems to be a special city, as it doesn't belong to any other clustered cities. Instead, Wuppertal builds its own cluster.\n5. You have also seen, that in all cities already a lot of Cafes and Italian Restaurants exist. So it could make sense to open a store which is not part of the list to be specializied.\n"
        },
        {
            "cell_type": "markdown",
            "metadata": {},
            "source": "# 6. Conclusion section"
        },
        {
            "cell_type": "markdown",
            "metadata": {},
            "source": "Finally, what I did was to explore the data of common venues for different cities in the neighborhood of Dusseldorf. As Dusseldorf is known as very large city having already lots of stores, it could be a good option to discover the neighborhood of Dusseldorf. The question is in which city it makes sense to open a store of which typ.\nFrom the observation above, I recommend not to open a Cafe or an Italian Restaurant, as most of the cities have their most common venues here. Go for a Game shop or a Flower Shop, something which is very sheldom in the data set. That makes you unique and increases your prospects for success. \n\nTo find out, why Wuppertal is specific, we need more data of that city. That will be the good task for the next journey...\n\nSee you!\n"
        }
    ],
    "metadata": {
        "kernelspec": {
            "display_name": "Python 3.6",
            "language": "python",
            "name": "python3"
        },
        "language_info": {
            "codemirror_mode": {
                "name": "ipython",
                "version": 3
            },
            "file_extension": ".py",
            "mimetype": "text/x-python",
            "name": "python",
            "nbconvert_exporter": "python",
            "pygments_lexer": "ipython3",
            "version": "3.6.8"
        },
        "widgets": {
            "state": {},
            "version": "1.1.2"
        }
    },
    "nbformat": 4,
    "nbformat_minor": 4
}